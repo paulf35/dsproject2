{
  "cells": [
    {
      "cell_type": "markdown",
      "metadata": {
        "id": "view-in-github",
        "colab_type": "text"
      },
      "source": [
        "<a href=\"https://colab.research.google.com/github/paulf35/winequality/blob/main/CD_Proj2_SpanishWines_Modeling_withFE_V2_CORE.ipynb\" target=\"_parent\"><img src=\"https://colab.research.google.com/assets/colab-badge.svg\" alt=\"Open In Colab\"/></a>"
      ]
    },
    {
      "cell_type": "markdown",
      "metadata": {
        "id": "ThqtJCVvVvsK"
      },
      "source": [
        "# Predict the quality of Spanish wines based on existing data\n",
        "Data Source: https://www.kaggle.com/datasets/fedesoriano/spanish-wine-quality-dataset\n",
        "\n"
      ]
    },
    {
      "cell_type": "markdown",
      "metadata": {
        "id": "KSwKojXRWMJL"
      },
      "source": [
        "# Add imports and functions"
      ]
    },
    {
      "cell_type": "markdown",
      "metadata": {
        "id": "8ftAsc5BbeR7"
      },
      "source": [
        "## Imports"
      ]
    },
    {
      "cell_type": "code",
      "execution_count": 347,
      "metadata": {
        "id": "UvfMLz_NWibx"
      },
      "outputs": [],
      "source": [
        "# Imports\n",
        "import pandas as pd\n",
        "import numpy as np\n",
        "import matplotlib.pyplot as plt\n",
        "import seaborn as sns\n",
        "\n",
        "from sklearn.compose import make_column_selector, ColumnTransformer\n",
        "from sklearn.model_selection import train_test_split, GridSearchCV\n",
        "from sklearn.linear_model import LogisticRegression, LinearRegression\n",
        "from sklearn.preprocessing import PolynomialFeatures, StandardScaler, OneHotEncoder\n",
        "from sklearn.compose import make_column_transformer, make_column_selector\n",
        "from sklearn.pipeline import make_pipeline\n",
        "from sklearn.metrics import mean_absolute_error, r2_score, mean_squared_error, \\\n",
        "precision_score, recall_score, accuracy_score, f1_score, ConfusionMatrixDisplay, \\\n",
        "classification_report\n",
        "from sklearn.impute import SimpleImputer\n",
        "\n",
        "import warnings\n",
        "warnings.filterwarnings('ignore')"
      ]
    },
    {
      "cell_type": "markdown",
      "metadata": {
        "id": "grCAT6iEbj_1"
      },
      "source": [
        "## Functions"
      ]
    },
    {
      "cell_type": "code",
      "execution_count": 348,
      "metadata": {
        "id": "EhVY2czCVFC_"
      },
      "outputs": [],
      "source": [
        "def classification_metrics(y_true, y_pred, label=\"\",\n",
        "                           output_dict=False, figsize=(8,4),\n",
        "                           normalize='true', cmap='Blues',\n",
        "                           colorbar=False):\n",
        "  # Get the classification report\n",
        "  report = classification_report(y_true, y_pred)\n",
        "  ## Print header and report\n",
        "  header = \"-\"*70\n",
        "  print(header, f\" Classification Metrics: {label}\", header, sep='\\n')\n",
        "  print(report)\n",
        "  ## CONFUSION MATRICES SUBPLOTS\n",
        "  fig, axes = plt.subplots(ncols=2, figsize=figsize)\n",
        "  # create a confusion matrix  of raw counts\n",
        "  ConfusionMatrixDisplay.from_predictions(y_true, y_pred,\n",
        "                normalize=None, cmap='gist_gray', colorbar=colorbar,\n",
        "                ax = axes[0],);\n",
        "  axes[0].set_title(\"Raw Counts\")\n",
        "  # create a confusion matrix with the test data\n",
        "  ConfusionMatrixDisplay.from_predictions(y_true, y_pred,\n",
        "                normalize=normalize, cmap=cmap, colorbar=colorbar,\n",
        "                ax = axes[1]);\n",
        "  axes[1].set_title(\"Normalized Confusion Matrix\")\n",
        "  # Adjust layout and show figure\n",
        "  fig.tight_layout()\n",
        "  plt.show()\n",
        "  # Return dictionary of classification_report\n",
        "  if output_dict==True:\n",
        "    report_dict = classification_report(y_true, y_pred, output_dict=True)\n",
        "    return report_dict\n",
        "\n",
        "\n",
        "def evaluate_classification(model, X_train, y_train, X_test, y_test,\n",
        "                         figsize=(6,4), normalize='true', output_dict = False,\n",
        "                            cmap_train='Blues', cmap_test=\"Reds\",colorbar=False):\n",
        "  # Get predictions for training data\n",
        "  y_train_pred = model.predict(X_train)\n",
        "  # Call the helper function to obtain regression metrics for training data\n",
        "  results_train = classification_metrics(y_train, y_train_pred, #verbose = verbose,\n",
        "                                     output_dict=True, figsize=figsize,\n",
        "                                         colorbar=colorbar, cmap=cmap_train,\n",
        "                                     label='Training Data')\n",
        "  print()\n",
        "  # Get predictions for test data\n",
        "  y_test_pred = model.predict(X_test)\n",
        "  # Call the helper function to obtain regression metrics for test data\n",
        "  results_test = classification_metrics(y_test, y_test_pred, #verbose = verbose,\n",
        "                                  output_dict=True,figsize=figsize,\n",
        "                                         colorbar=colorbar, cmap=cmap_test,\n",
        "                                    label='Test Data' )\n",
        "  if output_dict == True:\n",
        "    # Store results in a dataframe if ouput_frame is True\n",
        "    results_dict = {'train':results_train,\n",
        "                    'test': results_test}\n",
        "    return results_dict"
      ]
    },
    {
      "cell_type": "markdown",
      "metadata": {
        "id": "-rOTwbEHWS0t"
      },
      "source": [
        "# Load data and mount Google Drive"
      ]
    },
    {
      "cell_type": "code",
      "execution_count": 349,
      "metadata": {
        "colab": {
          "base_uri": "https://localhost:8080/"
        },
        "id": "CzWg-wTsFdab",
        "outputId": "690aa785-c86c-4b4e-dd25-2aced16d3a93"
      },
      "outputs": [
        {
          "output_type": "stream",
          "name": "stdout",
          "text": [
            "Drive already mounted at /content/drive; to attempt to forcibly remount, call drive.mount(\"/content/drive\", force_remount=True).\n"
          ]
        }
      ],
      "source": [
        "# Mount google drive\n",
        "from google.colab import drive\n",
        "drive.mount('/content/drive')"
      ]
    },
    {
      "cell_type": "code",
      "execution_count": 350,
      "metadata": {
        "colab": {
          "base_uri": "https://localhost:8080/",
          "height": 0
        },
        "id": "Ue_begd_WfG0",
        "outputId": "c7c92163-1a77-4fe1-f379-71c5a5b3d25e"
      },
      "outputs": [
        {
          "output_type": "execute_result",
          "data": {
            "text/plain": [
              "          winery           wine  year  rating  num_reviews country  \\\n",
              "0  Teso La Monja          Tinto  2013     4.9           58  Espana   \n",
              "1         Artadi  Vina El Pison  2018     4.9           31  Espana   \n",
              "2   Vega Sicilia          Unico  2009     4.8         1793  Espana   \n",
              "3   Vega Sicilia          Unico  1999     4.8         1705  Espana   \n",
              "4   Vega Sicilia          Unico  1996     4.8         1309  Espana   \n",
              "\n",
              "             region   price                  type  body  acidity  \n",
              "0              Toro  995.00              Toro Red   5.0      3.0  \n",
              "1    Vino de Espana  313.50           Tempranillo   4.0      2.0  \n",
              "2  Ribera del Duero  324.95  Ribera Del Duero Red   5.0      3.0  \n",
              "3  Ribera del Duero  692.96  Ribera Del Duero Red   5.0      3.0  \n",
              "4  Ribera del Duero  778.06  Ribera Del Duero Red   5.0      3.0  "
            ],
            "text/html": [
              "\n",
              "\n",
              "  <div id=\"df-fc50ea5f-ea5a-4545-a6fd-75e6a630bc94\">\n",
              "    <div class=\"colab-df-container\">\n",
              "      <div>\n",
              "<style scoped>\n",
              "    .dataframe tbody tr th:only-of-type {\n",
              "        vertical-align: middle;\n",
              "    }\n",
              "\n",
              "    .dataframe tbody tr th {\n",
              "        vertical-align: top;\n",
              "    }\n",
              "\n",
              "    .dataframe thead th {\n",
              "        text-align: right;\n",
              "    }\n",
              "</style>\n",
              "<table border=\"1\" class=\"dataframe\">\n",
              "  <thead>\n",
              "    <tr style=\"text-align: right;\">\n",
              "      <th></th>\n",
              "      <th>winery</th>\n",
              "      <th>wine</th>\n",
              "      <th>year</th>\n",
              "      <th>rating</th>\n",
              "      <th>num_reviews</th>\n",
              "      <th>country</th>\n",
              "      <th>region</th>\n",
              "      <th>price</th>\n",
              "      <th>type</th>\n",
              "      <th>body</th>\n",
              "      <th>acidity</th>\n",
              "    </tr>\n",
              "  </thead>\n",
              "  <tbody>\n",
              "    <tr>\n",
              "      <th>0</th>\n",
              "      <td>Teso La Monja</td>\n",
              "      <td>Tinto</td>\n",
              "      <td>2013</td>\n",
              "      <td>4.9</td>\n",
              "      <td>58</td>\n",
              "      <td>Espana</td>\n",
              "      <td>Toro</td>\n",
              "      <td>995.00</td>\n",
              "      <td>Toro Red</td>\n",
              "      <td>5.0</td>\n",
              "      <td>3.0</td>\n",
              "    </tr>\n",
              "    <tr>\n",
              "      <th>1</th>\n",
              "      <td>Artadi</td>\n",
              "      <td>Vina El Pison</td>\n",
              "      <td>2018</td>\n",
              "      <td>4.9</td>\n",
              "      <td>31</td>\n",
              "      <td>Espana</td>\n",
              "      <td>Vino de Espana</td>\n",
              "      <td>313.50</td>\n",
              "      <td>Tempranillo</td>\n",
              "      <td>4.0</td>\n",
              "      <td>2.0</td>\n",
              "    </tr>\n",
              "    <tr>\n",
              "      <th>2</th>\n",
              "      <td>Vega Sicilia</td>\n",
              "      <td>Unico</td>\n",
              "      <td>2009</td>\n",
              "      <td>4.8</td>\n",
              "      <td>1793</td>\n",
              "      <td>Espana</td>\n",
              "      <td>Ribera del Duero</td>\n",
              "      <td>324.95</td>\n",
              "      <td>Ribera Del Duero Red</td>\n",
              "      <td>5.0</td>\n",
              "      <td>3.0</td>\n",
              "    </tr>\n",
              "    <tr>\n",
              "      <th>3</th>\n",
              "      <td>Vega Sicilia</td>\n",
              "      <td>Unico</td>\n",
              "      <td>1999</td>\n",
              "      <td>4.8</td>\n",
              "      <td>1705</td>\n",
              "      <td>Espana</td>\n",
              "      <td>Ribera del Duero</td>\n",
              "      <td>692.96</td>\n",
              "      <td>Ribera Del Duero Red</td>\n",
              "      <td>5.0</td>\n",
              "      <td>3.0</td>\n",
              "    </tr>\n",
              "    <tr>\n",
              "      <th>4</th>\n",
              "      <td>Vega Sicilia</td>\n",
              "      <td>Unico</td>\n",
              "      <td>1996</td>\n",
              "      <td>4.8</td>\n",
              "      <td>1309</td>\n",
              "      <td>Espana</td>\n",
              "      <td>Ribera del Duero</td>\n",
              "      <td>778.06</td>\n",
              "      <td>Ribera Del Duero Red</td>\n",
              "      <td>5.0</td>\n",
              "      <td>3.0</td>\n",
              "    </tr>\n",
              "  </tbody>\n",
              "</table>\n",
              "</div>\n",
              "      <button class=\"colab-df-convert\" onclick=\"convertToInteractive('df-fc50ea5f-ea5a-4545-a6fd-75e6a630bc94')\"\n",
              "              title=\"Convert this dataframe to an interactive table.\"\n",
              "              style=\"display:none;\">\n",
              "\n",
              "  <svg xmlns=\"http://www.w3.org/2000/svg\" height=\"24px\"viewBox=\"0 0 24 24\"\n",
              "       width=\"24px\">\n",
              "    <path d=\"M0 0h24v24H0V0z\" fill=\"none\"/>\n",
              "    <path d=\"M18.56 5.44l.94 2.06.94-2.06 2.06-.94-2.06-.94-.94-2.06-.94 2.06-2.06.94zm-11 1L8.5 8.5l.94-2.06 2.06-.94-2.06-.94L8.5 2.5l-.94 2.06-2.06.94zm10 10l.94 2.06.94-2.06 2.06-.94-2.06-.94-.94-2.06-.94 2.06-2.06.94z\"/><path d=\"M17.41 7.96l-1.37-1.37c-.4-.4-.92-.59-1.43-.59-.52 0-1.04.2-1.43.59L10.3 9.45l-7.72 7.72c-.78.78-.78 2.05 0 2.83L4 21.41c.39.39.9.59 1.41.59.51 0 1.02-.2 1.41-.59l7.78-7.78 2.81-2.81c.8-.78.8-2.07 0-2.86zM5.41 20L4 18.59l7.72-7.72 1.47 1.35L5.41 20z\"/>\n",
              "  </svg>\n",
              "      </button>\n",
              "\n",
              "\n",
              "\n",
              "    <div id=\"df-1c34111a-e269-4c2d-acc3-e589858bd01a\">\n",
              "      <button class=\"colab-df-quickchart\" onclick=\"quickchart('df-1c34111a-e269-4c2d-acc3-e589858bd01a')\"\n",
              "              title=\"Suggest charts.\"\n",
              "              style=\"display:none;\">\n",
              "\n",
              "<svg xmlns=\"http://www.w3.org/2000/svg\" height=\"24px\"viewBox=\"0 0 24 24\"\n",
              "     width=\"24px\">\n",
              "    <g>\n",
              "        <path d=\"M19 3H5c-1.1 0-2 .9-2 2v14c0 1.1.9 2 2 2h14c1.1 0 2-.9 2-2V5c0-1.1-.9-2-2-2zM9 17H7v-7h2v7zm4 0h-2V7h2v10zm4 0h-2v-4h2v4z\"/>\n",
              "    </g>\n",
              "</svg>\n",
              "      </button>\n",
              "    </div>\n",
              "\n",
              "<style>\n",
              "  .colab-df-quickchart {\n",
              "    background-color: #E8F0FE;\n",
              "    border: none;\n",
              "    border-radius: 50%;\n",
              "    cursor: pointer;\n",
              "    display: none;\n",
              "    fill: #1967D2;\n",
              "    height: 32px;\n",
              "    padding: 0 0 0 0;\n",
              "    width: 32px;\n",
              "  }\n",
              "\n",
              "  .colab-df-quickchart:hover {\n",
              "    background-color: #E2EBFA;\n",
              "    box-shadow: 0px 1px 2px rgba(60, 64, 67, 0.3), 0px 1px 3px 1px rgba(60, 64, 67, 0.15);\n",
              "    fill: #174EA6;\n",
              "  }\n",
              "\n",
              "  [theme=dark] .colab-df-quickchart {\n",
              "    background-color: #3B4455;\n",
              "    fill: #D2E3FC;\n",
              "  }\n",
              "\n",
              "  [theme=dark] .colab-df-quickchart:hover {\n",
              "    background-color: #434B5C;\n",
              "    box-shadow: 0px 1px 3px 1px rgba(0, 0, 0, 0.15);\n",
              "    filter: drop-shadow(0px 1px 2px rgba(0, 0, 0, 0.3));\n",
              "    fill: #FFFFFF;\n",
              "  }\n",
              "</style>\n",
              "\n",
              "    <script>\n",
              "      async function quickchart(key) {\n",
              "        const containerElement = document.querySelector('#' + key);\n",
              "        const charts = await google.colab.kernel.invokeFunction(\n",
              "            'suggestCharts', [key], {});\n",
              "      }\n",
              "    </script>\n",
              "\n",
              "      <script>\n",
              "\n",
              "function displayQuickchartButton(domScope) {\n",
              "  let quickchartButtonEl =\n",
              "    domScope.querySelector('#df-1c34111a-e269-4c2d-acc3-e589858bd01a button.colab-df-quickchart');\n",
              "  quickchartButtonEl.style.display =\n",
              "    google.colab.kernel.accessAllowed ? 'block' : 'none';\n",
              "}\n",
              "\n",
              "        displayQuickchartButton(document);\n",
              "      </script>\n",
              "      <style>\n",
              "    .colab-df-container {\n",
              "      display:flex;\n",
              "      flex-wrap:wrap;\n",
              "      gap: 12px;\n",
              "    }\n",
              "\n",
              "    .colab-df-convert {\n",
              "      background-color: #E8F0FE;\n",
              "      border: none;\n",
              "      border-radius: 50%;\n",
              "      cursor: pointer;\n",
              "      display: none;\n",
              "      fill: #1967D2;\n",
              "      height: 32px;\n",
              "      padding: 0 0 0 0;\n",
              "      width: 32px;\n",
              "    }\n",
              "\n",
              "    .colab-df-convert:hover {\n",
              "      background-color: #E2EBFA;\n",
              "      box-shadow: 0px 1px 2px rgba(60, 64, 67, 0.3), 0px 1px 3px 1px rgba(60, 64, 67, 0.15);\n",
              "      fill: #174EA6;\n",
              "    }\n",
              "\n",
              "    [theme=dark] .colab-df-convert {\n",
              "      background-color: #3B4455;\n",
              "      fill: #D2E3FC;\n",
              "    }\n",
              "\n",
              "    [theme=dark] .colab-df-convert:hover {\n",
              "      background-color: #434B5C;\n",
              "      box-shadow: 0px 1px 3px 1px rgba(0, 0, 0, 0.15);\n",
              "      filter: drop-shadow(0px 1px 2px rgba(0, 0, 0, 0.3));\n",
              "      fill: #FFFFFF;\n",
              "    }\n",
              "  </style>\n",
              "\n",
              "      <script>\n",
              "        const buttonEl =\n",
              "          document.querySelector('#df-fc50ea5f-ea5a-4545-a6fd-75e6a630bc94 button.colab-df-convert');\n",
              "        buttonEl.style.display =\n",
              "          google.colab.kernel.accessAllowed ? 'block' : 'none';\n",
              "\n",
              "        async function convertToInteractive(key) {\n",
              "          const element = document.querySelector('#df-fc50ea5f-ea5a-4545-a6fd-75e6a630bc94');\n",
              "          const dataTable =\n",
              "            await google.colab.kernel.invokeFunction('convertToInteractive',\n",
              "                                                     [key], {});\n",
              "          if (!dataTable) return;\n",
              "\n",
              "          const docLinkHtml = 'Like what you see? Visit the ' +\n",
              "            '<a target=\"_blank\" href=https://colab.research.google.com/notebooks/data_table.ipynb>data table notebook</a>'\n",
              "            + ' to learn more about interactive tables.';\n",
              "          element.innerHTML = '';\n",
              "          dataTable['output_type'] = 'display_data';\n",
              "          await google.colab.output.renderOutput(dataTable, element);\n",
              "          const docLink = document.createElement('div');\n",
              "          docLink.innerHTML = docLinkHtml;\n",
              "          element.appendChild(docLink);\n",
              "        }\n",
              "      </script>\n",
              "    </div>\n",
              "  </div>\n"
            ]
          },
          "metadata": {},
          "execution_count": 350
        }
      ],
      "source": [
        "# Load data in from Google Drive\n",
        "fname = \"/content/drive/MyDrive/CodingDojo/02-MachineLearning/Week07/Data/wines_SPA.csv\"\n",
        "df = pd.read_csv(fname)\n",
        "\n",
        "# Load first 5 rows\n",
        "df.head()"
      ]
    },
    {
      "cell_type": "markdown",
      "metadata": {
        "id": "Mj8Vu5tdWGf7"
      },
      "source": [
        "# Data Exploration"
      ]
    },
    {
      "cell_type": "code",
      "execution_count": 351,
      "metadata": {
        "colab": {
          "base_uri": "https://localhost:8080/"
        },
        "id": "lZwoRNftVubQ",
        "outputId": "c00b8ded-dd8a-4399-ea31-77d1790c2845"
      },
      "outputs": [
        {
          "output_type": "execute_result",
          "data": {
            "text/plain": [
              "winery          object\n",
              "wine            object\n",
              "year            object\n",
              "rating         float64\n",
              "num_reviews      int64\n",
              "country         object\n",
              "region          object\n",
              "price          float64\n",
              "type            object\n",
              "body           float64\n",
              "acidity        float64\n",
              "dtype: object"
            ]
          },
          "metadata": {},
          "execution_count": 351
        }
      ],
      "source": [
        "# Check types\n",
        "df.dtypes"
      ]
    },
    {
      "cell_type": "code",
      "execution_count": 352,
      "metadata": {
        "colab": {
          "base_uri": "https://localhost:8080/"
        },
        "id": "lgh4UB6MW_Kg",
        "outputId": "64adf9fc-af66-4376-cf2f-72d55c77912c"
      },
      "outputs": [
        {
          "output_type": "stream",
          "name": "stdout",
          "text": [
            "<class 'pandas.core.frame.DataFrame'>\n",
            "RangeIndex: 7500 entries, 0 to 7499\n",
            "Data columns (total 11 columns):\n",
            " #   Column       Non-Null Count  Dtype  \n",
            "---  ------       --------------  -----  \n",
            " 0   winery       7500 non-null   object \n",
            " 1   wine         7500 non-null   object \n",
            " 2   year         7498 non-null   object \n",
            " 3   rating       7500 non-null   float64\n",
            " 4   num_reviews  7500 non-null   int64  \n",
            " 5   country      7500 non-null   object \n",
            " 6   region       7500 non-null   object \n",
            " 7   price        7500 non-null   float64\n",
            " 8   type         6955 non-null   object \n",
            " 9   body         6331 non-null   float64\n",
            " 10  acidity      6331 non-null   float64\n",
            "dtypes: float64(4), int64(1), object(6)\n",
            "memory usage: 644.7+ KB\n"
          ]
        }
      ],
      "source": [
        "# Info\n",
        "df.info()"
      ]
    },
    {
      "cell_type": "markdown",
      "metadata": {
        "id": "4fZqf-IpGdFm"
      },
      "source": [
        "There are missing vlaues for type, body, acidity, and year. We'll need to impute those before building the models."
      ]
    },
    {
      "cell_type": "code",
      "execution_count": 353,
      "metadata": {
        "colab": {
          "base_uri": "https://localhost:8080/"
        },
        "id": "XoBmdX5xEd2z",
        "outputId": "21e5eedc-5fd0-4a7e-f4f9-79063d69ff22"
      },
      "outputs": [
        {
          "output_type": "stream",
          "name": "stdout",
          "text": [
            "There are 7500 rows and 11 columns.\n"
          ]
        }
      ],
      "source": [
        "# Shape\n",
        "print(f'There are {df.shape[0]} rows and {df.shape[1]} columns.')"
      ]
    },
    {
      "cell_type": "code",
      "execution_count": 354,
      "metadata": {
        "colab": {
          "base_uri": "https://localhost:8080/",
          "height": 174
        },
        "id": "UlWeNODcFNop",
        "outputId": "82bd2298-2a42-4cd9-d881-f27cee5f7e0c"
      },
      "outputs": [
        {
          "output_type": "execute_result",
          "data": {
            "text/plain": [
              "         winery     wine  year country region       type\n",
              "count      7500     7500  7498    7500   7500       6955\n",
              "unique      480      847    71       1     76         21\n",
              "top     Contino  Reserva  2011  Espana  Rioja  Rioja Red\n",
              "freq        457      467  1190    7500   2440       2357"
            ],
            "text/html": [
              "\n",
              "\n",
              "  <div id=\"df-19f06c7a-5073-46ce-aec9-f976831b2461\">\n",
              "    <div class=\"colab-df-container\">\n",
              "      <div>\n",
              "<style scoped>\n",
              "    .dataframe tbody tr th:only-of-type {\n",
              "        vertical-align: middle;\n",
              "    }\n",
              "\n",
              "    .dataframe tbody tr th {\n",
              "        vertical-align: top;\n",
              "    }\n",
              "\n",
              "    .dataframe thead th {\n",
              "        text-align: right;\n",
              "    }\n",
              "</style>\n",
              "<table border=\"1\" class=\"dataframe\">\n",
              "  <thead>\n",
              "    <tr style=\"text-align: right;\">\n",
              "      <th></th>\n",
              "      <th>winery</th>\n",
              "      <th>wine</th>\n",
              "      <th>year</th>\n",
              "      <th>country</th>\n",
              "      <th>region</th>\n",
              "      <th>type</th>\n",
              "    </tr>\n",
              "  </thead>\n",
              "  <tbody>\n",
              "    <tr>\n",
              "      <th>count</th>\n",
              "      <td>7500</td>\n",
              "      <td>7500</td>\n",
              "      <td>7498</td>\n",
              "      <td>7500</td>\n",
              "      <td>7500</td>\n",
              "      <td>6955</td>\n",
              "    </tr>\n",
              "    <tr>\n",
              "      <th>unique</th>\n",
              "      <td>480</td>\n",
              "      <td>847</td>\n",
              "      <td>71</td>\n",
              "      <td>1</td>\n",
              "      <td>76</td>\n",
              "      <td>21</td>\n",
              "    </tr>\n",
              "    <tr>\n",
              "      <th>top</th>\n",
              "      <td>Contino</td>\n",
              "      <td>Reserva</td>\n",
              "      <td>2011</td>\n",
              "      <td>Espana</td>\n",
              "      <td>Rioja</td>\n",
              "      <td>Rioja Red</td>\n",
              "    </tr>\n",
              "    <tr>\n",
              "      <th>freq</th>\n",
              "      <td>457</td>\n",
              "      <td>467</td>\n",
              "      <td>1190</td>\n",
              "      <td>7500</td>\n",
              "      <td>2440</td>\n",
              "      <td>2357</td>\n",
              "    </tr>\n",
              "  </tbody>\n",
              "</table>\n",
              "</div>\n",
              "      <button class=\"colab-df-convert\" onclick=\"convertToInteractive('df-19f06c7a-5073-46ce-aec9-f976831b2461')\"\n",
              "              title=\"Convert this dataframe to an interactive table.\"\n",
              "              style=\"display:none;\">\n",
              "\n",
              "  <svg xmlns=\"http://www.w3.org/2000/svg\" height=\"24px\"viewBox=\"0 0 24 24\"\n",
              "       width=\"24px\">\n",
              "    <path d=\"M0 0h24v24H0V0z\" fill=\"none\"/>\n",
              "    <path d=\"M18.56 5.44l.94 2.06.94-2.06 2.06-.94-2.06-.94-.94-2.06-.94 2.06-2.06.94zm-11 1L8.5 8.5l.94-2.06 2.06-.94-2.06-.94L8.5 2.5l-.94 2.06-2.06.94zm10 10l.94 2.06.94-2.06 2.06-.94-2.06-.94-.94-2.06-.94 2.06-2.06.94z\"/><path d=\"M17.41 7.96l-1.37-1.37c-.4-.4-.92-.59-1.43-.59-.52 0-1.04.2-1.43.59L10.3 9.45l-7.72 7.72c-.78.78-.78 2.05 0 2.83L4 21.41c.39.39.9.59 1.41.59.51 0 1.02-.2 1.41-.59l7.78-7.78 2.81-2.81c.8-.78.8-2.07 0-2.86zM5.41 20L4 18.59l7.72-7.72 1.47 1.35L5.41 20z\"/>\n",
              "  </svg>\n",
              "      </button>\n",
              "\n",
              "\n",
              "\n",
              "    <div id=\"df-ef84dde2-cf8a-4705-83d5-312941bf601c\">\n",
              "      <button class=\"colab-df-quickchart\" onclick=\"quickchart('df-ef84dde2-cf8a-4705-83d5-312941bf601c')\"\n",
              "              title=\"Suggest charts.\"\n",
              "              style=\"display:none;\">\n",
              "\n",
              "<svg xmlns=\"http://www.w3.org/2000/svg\" height=\"24px\"viewBox=\"0 0 24 24\"\n",
              "     width=\"24px\">\n",
              "    <g>\n",
              "        <path d=\"M19 3H5c-1.1 0-2 .9-2 2v14c0 1.1.9 2 2 2h14c1.1 0 2-.9 2-2V5c0-1.1-.9-2-2-2zM9 17H7v-7h2v7zm4 0h-2V7h2v10zm4 0h-2v-4h2v4z\"/>\n",
              "    </g>\n",
              "</svg>\n",
              "      </button>\n",
              "    </div>\n",
              "\n",
              "<style>\n",
              "  .colab-df-quickchart {\n",
              "    background-color: #E8F0FE;\n",
              "    border: none;\n",
              "    border-radius: 50%;\n",
              "    cursor: pointer;\n",
              "    display: none;\n",
              "    fill: #1967D2;\n",
              "    height: 32px;\n",
              "    padding: 0 0 0 0;\n",
              "    width: 32px;\n",
              "  }\n",
              "\n",
              "  .colab-df-quickchart:hover {\n",
              "    background-color: #E2EBFA;\n",
              "    box-shadow: 0px 1px 2px rgba(60, 64, 67, 0.3), 0px 1px 3px 1px rgba(60, 64, 67, 0.15);\n",
              "    fill: #174EA6;\n",
              "  }\n",
              "\n",
              "  [theme=dark] .colab-df-quickchart {\n",
              "    background-color: #3B4455;\n",
              "    fill: #D2E3FC;\n",
              "  }\n",
              "\n",
              "  [theme=dark] .colab-df-quickchart:hover {\n",
              "    background-color: #434B5C;\n",
              "    box-shadow: 0px 1px 3px 1px rgba(0, 0, 0, 0.15);\n",
              "    filter: drop-shadow(0px 1px 2px rgba(0, 0, 0, 0.3));\n",
              "    fill: #FFFFFF;\n",
              "  }\n",
              "</style>\n",
              "\n",
              "    <script>\n",
              "      async function quickchart(key) {\n",
              "        const containerElement = document.querySelector('#' + key);\n",
              "        const charts = await google.colab.kernel.invokeFunction(\n",
              "            'suggestCharts', [key], {});\n",
              "      }\n",
              "    </script>\n",
              "\n",
              "      <script>\n",
              "\n",
              "function displayQuickchartButton(domScope) {\n",
              "  let quickchartButtonEl =\n",
              "    domScope.querySelector('#df-ef84dde2-cf8a-4705-83d5-312941bf601c button.colab-df-quickchart');\n",
              "  quickchartButtonEl.style.display =\n",
              "    google.colab.kernel.accessAllowed ? 'block' : 'none';\n",
              "}\n",
              "\n",
              "        displayQuickchartButton(document);\n",
              "      </script>\n",
              "      <style>\n",
              "    .colab-df-container {\n",
              "      display:flex;\n",
              "      flex-wrap:wrap;\n",
              "      gap: 12px;\n",
              "    }\n",
              "\n",
              "    .colab-df-convert {\n",
              "      background-color: #E8F0FE;\n",
              "      border: none;\n",
              "      border-radius: 50%;\n",
              "      cursor: pointer;\n",
              "      display: none;\n",
              "      fill: #1967D2;\n",
              "      height: 32px;\n",
              "      padding: 0 0 0 0;\n",
              "      width: 32px;\n",
              "    }\n",
              "\n",
              "    .colab-df-convert:hover {\n",
              "      background-color: #E2EBFA;\n",
              "      box-shadow: 0px 1px 2px rgba(60, 64, 67, 0.3), 0px 1px 3px 1px rgba(60, 64, 67, 0.15);\n",
              "      fill: #174EA6;\n",
              "    }\n",
              "\n",
              "    [theme=dark] .colab-df-convert {\n",
              "      background-color: #3B4455;\n",
              "      fill: #D2E3FC;\n",
              "    }\n",
              "\n",
              "    [theme=dark] .colab-df-convert:hover {\n",
              "      background-color: #434B5C;\n",
              "      box-shadow: 0px 1px 3px 1px rgba(0, 0, 0, 0.15);\n",
              "      filter: drop-shadow(0px 1px 2px rgba(0, 0, 0, 0.3));\n",
              "      fill: #FFFFFF;\n",
              "    }\n",
              "  </style>\n",
              "\n",
              "      <script>\n",
              "        const buttonEl =\n",
              "          document.querySelector('#df-19f06c7a-5073-46ce-aec9-f976831b2461 button.colab-df-convert');\n",
              "        buttonEl.style.display =\n",
              "          google.colab.kernel.accessAllowed ? 'block' : 'none';\n",
              "\n",
              "        async function convertToInteractive(key) {\n",
              "          const element = document.querySelector('#df-19f06c7a-5073-46ce-aec9-f976831b2461');\n",
              "          const dataTable =\n",
              "            await google.colab.kernel.invokeFunction('convertToInteractive',\n",
              "                                                     [key], {});\n",
              "          if (!dataTable) return;\n",
              "\n",
              "          const docLinkHtml = 'Like what you see? Visit the ' +\n",
              "            '<a target=\"_blank\" href=https://colab.research.google.com/notebooks/data_table.ipynb>data table notebook</a>'\n",
              "            + ' to learn more about interactive tables.';\n",
              "          element.innerHTML = '';\n",
              "          dataTable['output_type'] = 'display_data';\n",
              "          await google.colab.output.renderOutput(dataTable, element);\n",
              "          const docLink = document.createElement('div');\n",
              "          docLink.innerHTML = docLinkHtml;\n",
              "          element.appendChild(docLink);\n",
              "        }\n",
              "      </script>\n",
              "    </div>\n",
              "  </div>\n"
            ]
          },
          "metadata": {},
          "execution_count": 354
        }
      ],
      "source": [
        "# Describe\n",
        "df.describe(exclude='number')"
      ]
    },
    {
      "cell_type": "markdown",
      "metadata": {
        "id": "uTMSirLlv3Iw"
      },
      "source": [
        "Notes:\n",
        "- No major outliers, but winery and wine are very high cardinality."
      ]
    },
    {
      "cell_type": "code",
      "execution_count": 355,
      "metadata": {
        "colab": {
          "base_uri": "https://localhost:8080/",
          "height": 300
        },
        "id": "3JqUh47tFpCD",
        "outputId": "547c4a73-501b-4401-ea46-292c7ce9fb1e"
      },
      "outputs": [
        {
          "output_type": "execute_result",
          "data": {
            "text/plain": [
              "            rating   num_reviews        price         body      acidity\n",
              "count  7500.000000   7500.000000  7500.000000  6331.000000  6331.000000\n",
              "mean      4.254933    451.109067    60.095822     4.158427     2.946612\n",
              "std       0.118029    723.001856   150.356676     0.583352     0.248202\n",
              "min       4.200000     25.000000     4.990000     2.000000     1.000000\n",
              "25%       4.200000    389.000000    18.900000     4.000000     3.000000\n",
              "50%       4.200000    404.000000    28.530000     4.000000     3.000000\n",
              "75%       4.200000    415.000000    51.350000     5.000000     3.000000\n",
              "max       4.900000  32624.000000  3119.080000     5.000000     3.000000"
            ],
            "text/html": [
              "\n",
              "\n",
              "  <div id=\"df-7ea7f8a2-e9c8-4055-b096-9c93d0d77a37\">\n",
              "    <div class=\"colab-df-container\">\n",
              "      <div>\n",
              "<style scoped>\n",
              "    .dataframe tbody tr th:only-of-type {\n",
              "        vertical-align: middle;\n",
              "    }\n",
              "\n",
              "    .dataframe tbody tr th {\n",
              "        vertical-align: top;\n",
              "    }\n",
              "\n",
              "    .dataframe thead th {\n",
              "        text-align: right;\n",
              "    }\n",
              "</style>\n",
              "<table border=\"1\" class=\"dataframe\">\n",
              "  <thead>\n",
              "    <tr style=\"text-align: right;\">\n",
              "      <th></th>\n",
              "      <th>rating</th>\n",
              "      <th>num_reviews</th>\n",
              "      <th>price</th>\n",
              "      <th>body</th>\n",
              "      <th>acidity</th>\n",
              "    </tr>\n",
              "  </thead>\n",
              "  <tbody>\n",
              "    <tr>\n",
              "      <th>count</th>\n",
              "      <td>7500.000000</td>\n",
              "      <td>7500.000000</td>\n",
              "      <td>7500.000000</td>\n",
              "      <td>6331.000000</td>\n",
              "      <td>6331.000000</td>\n",
              "    </tr>\n",
              "    <tr>\n",
              "      <th>mean</th>\n",
              "      <td>4.254933</td>\n",
              "      <td>451.109067</td>\n",
              "      <td>60.095822</td>\n",
              "      <td>4.158427</td>\n",
              "      <td>2.946612</td>\n",
              "    </tr>\n",
              "    <tr>\n",
              "      <th>std</th>\n",
              "      <td>0.118029</td>\n",
              "      <td>723.001856</td>\n",
              "      <td>150.356676</td>\n",
              "      <td>0.583352</td>\n",
              "      <td>0.248202</td>\n",
              "    </tr>\n",
              "    <tr>\n",
              "      <th>min</th>\n",
              "      <td>4.200000</td>\n",
              "      <td>25.000000</td>\n",
              "      <td>4.990000</td>\n",
              "      <td>2.000000</td>\n",
              "      <td>1.000000</td>\n",
              "    </tr>\n",
              "    <tr>\n",
              "      <th>25%</th>\n",
              "      <td>4.200000</td>\n",
              "      <td>389.000000</td>\n",
              "      <td>18.900000</td>\n",
              "      <td>4.000000</td>\n",
              "      <td>3.000000</td>\n",
              "    </tr>\n",
              "    <tr>\n",
              "      <th>50%</th>\n",
              "      <td>4.200000</td>\n",
              "      <td>404.000000</td>\n",
              "      <td>28.530000</td>\n",
              "      <td>4.000000</td>\n",
              "      <td>3.000000</td>\n",
              "    </tr>\n",
              "    <tr>\n",
              "      <th>75%</th>\n",
              "      <td>4.200000</td>\n",
              "      <td>415.000000</td>\n",
              "      <td>51.350000</td>\n",
              "      <td>5.000000</td>\n",
              "      <td>3.000000</td>\n",
              "    </tr>\n",
              "    <tr>\n",
              "      <th>max</th>\n",
              "      <td>4.900000</td>\n",
              "      <td>32624.000000</td>\n",
              "      <td>3119.080000</td>\n",
              "      <td>5.000000</td>\n",
              "      <td>3.000000</td>\n",
              "    </tr>\n",
              "  </tbody>\n",
              "</table>\n",
              "</div>\n",
              "      <button class=\"colab-df-convert\" onclick=\"convertToInteractive('df-7ea7f8a2-e9c8-4055-b096-9c93d0d77a37')\"\n",
              "              title=\"Convert this dataframe to an interactive table.\"\n",
              "              style=\"display:none;\">\n",
              "\n",
              "  <svg xmlns=\"http://www.w3.org/2000/svg\" height=\"24px\"viewBox=\"0 0 24 24\"\n",
              "       width=\"24px\">\n",
              "    <path d=\"M0 0h24v24H0V0z\" fill=\"none\"/>\n",
              "    <path d=\"M18.56 5.44l.94 2.06.94-2.06 2.06-.94-2.06-.94-.94-2.06-.94 2.06-2.06.94zm-11 1L8.5 8.5l.94-2.06 2.06-.94-2.06-.94L8.5 2.5l-.94 2.06-2.06.94zm10 10l.94 2.06.94-2.06 2.06-.94-2.06-.94-.94-2.06-.94 2.06-2.06.94z\"/><path d=\"M17.41 7.96l-1.37-1.37c-.4-.4-.92-.59-1.43-.59-.52 0-1.04.2-1.43.59L10.3 9.45l-7.72 7.72c-.78.78-.78 2.05 0 2.83L4 21.41c.39.39.9.59 1.41.59.51 0 1.02-.2 1.41-.59l7.78-7.78 2.81-2.81c.8-.78.8-2.07 0-2.86zM5.41 20L4 18.59l7.72-7.72 1.47 1.35L5.41 20z\"/>\n",
              "  </svg>\n",
              "      </button>\n",
              "\n",
              "\n",
              "\n",
              "    <div id=\"df-985c64fd-3a8e-48f5-9235-9b120c10bb1c\">\n",
              "      <button class=\"colab-df-quickchart\" onclick=\"quickchart('df-985c64fd-3a8e-48f5-9235-9b120c10bb1c')\"\n",
              "              title=\"Suggest charts.\"\n",
              "              style=\"display:none;\">\n",
              "\n",
              "<svg xmlns=\"http://www.w3.org/2000/svg\" height=\"24px\"viewBox=\"0 0 24 24\"\n",
              "     width=\"24px\">\n",
              "    <g>\n",
              "        <path d=\"M19 3H5c-1.1 0-2 .9-2 2v14c0 1.1.9 2 2 2h14c1.1 0 2-.9 2-2V5c0-1.1-.9-2-2-2zM9 17H7v-7h2v7zm4 0h-2V7h2v10zm4 0h-2v-4h2v4z\"/>\n",
              "    </g>\n",
              "</svg>\n",
              "      </button>\n",
              "    </div>\n",
              "\n",
              "<style>\n",
              "  .colab-df-quickchart {\n",
              "    background-color: #E8F0FE;\n",
              "    border: none;\n",
              "    border-radius: 50%;\n",
              "    cursor: pointer;\n",
              "    display: none;\n",
              "    fill: #1967D2;\n",
              "    height: 32px;\n",
              "    padding: 0 0 0 0;\n",
              "    width: 32px;\n",
              "  }\n",
              "\n",
              "  .colab-df-quickchart:hover {\n",
              "    background-color: #E2EBFA;\n",
              "    box-shadow: 0px 1px 2px rgba(60, 64, 67, 0.3), 0px 1px 3px 1px rgba(60, 64, 67, 0.15);\n",
              "    fill: #174EA6;\n",
              "  }\n",
              "\n",
              "  [theme=dark] .colab-df-quickchart {\n",
              "    background-color: #3B4455;\n",
              "    fill: #D2E3FC;\n",
              "  }\n",
              "\n",
              "  [theme=dark] .colab-df-quickchart:hover {\n",
              "    background-color: #434B5C;\n",
              "    box-shadow: 0px 1px 3px 1px rgba(0, 0, 0, 0.15);\n",
              "    filter: drop-shadow(0px 1px 2px rgba(0, 0, 0, 0.3));\n",
              "    fill: #FFFFFF;\n",
              "  }\n",
              "</style>\n",
              "\n",
              "    <script>\n",
              "      async function quickchart(key) {\n",
              "        const containerElement = document.querySelector('#' + key);\n",
              "        const charts = await google.colab.kernel.invokeFunction(\n",
              "            'suggestCharts', [key], {});\n",
              "      }\n",
              "    </script>\n",
              "\n",
              "      <script>\n",
              "\n",
              "function displayQuickchartButton(domScope) {\n",
              "  let quickchartButtonEl =\n",
              "    domScope.querySelector('#df-985c64fd-3a8e-48f5-9235-9b120c10bb1c button.colab-df-quickchart');\n",
              "  quickchartButtonEl.style.display =\n",
              "    google.colab.kernel.accessAllowed ? 'block' : 'none';\n",
              "}\n",
              "\n",
              "        displayQuickchartButton(document);\n",
              "      </script>\n",
              "      <style>\n",
              "    .colab-df-container {\n",
              "      display:flex;\n",
              "      flex-wrap:wrap;\n",
              "      gap: 12px;\n",
              "    }\n",
              "\n",
              "    .colab-df-convert {\n",
              "      background-color: #E8F0FE;\n",
              "      border: none;\n",
              "      border-radius: 50%;\n",
              "      cursor: pointer;\n",
              "      display: none;\n",
              "      fill: #1967D2;\n",
              "      height: 32px;\n",
              "      padding: 0 0 0 0;\n",
              "      width: 32px;\n",
              "    }\n",
              "\n",
              "    .colab-df-convert:hover {\n",
              "      background-color: #E2EBFA;\n",
              "      box-shadow: 0px 1px 2px rgba(60, 64, 67, 0.3), 0px 1px 3px 1px rgba(60, 64, 67, 0.15);\n",
              "      fill: #174EA6;\n",
              "    }\n",
              "\n",
              "    [theme=dark] .colab-df-convert {\n",
              "      background-color: #3B4455;\n",
              "      fill: #D2E3FC;\n",
              "    }\n",
              "\n",
              "    [theme=dark] .colab-df-convert:hover {\n",
              "      background-color: #434B5C;\n",
              "      box-shadow: 0px 1px 3px 1px rgba(0, 0, 0, 0.15);\n",
              "      filter: drop-shadow(0px 1px 2px rgba(0, 0, 0, 0.3));\n",
              "      fill: #FFFFFF;\n",
              "    }\n",
              "  </style>\n",
              "\n",
              "      <script>\n",
              "        const buttonEl =\n",
              "          document.querySelector('#df-7ea7f8a2-e9c8-4055-b096-9c93d0d77a37 button.colab-df-convert');\n",
              "        buttonEl.style.display =\n",
              "          google.colab.kernel.accessAllowed ? 'block' : 'none';\n",
              "\n",
              "        async function convertToInteractive(key) {\n",
              "          const element = document.querySelector('#df-7ea7f8a2-e9c8-4055-b096-9c93d0d77a37');\n",
              "          const dataTable =\n",
              "            await google.colab.kernel.invokeFunction('convertToInteractive',\n",
              "                                                     [key], {});\n",
              "          if (!dataTable) return;\n",
              "\n",
              "          const docLinkHtml = 'Like what you see? Visit the ' +\n",
              "            '<a target=\"_blank\" href=https://colab.research.google.com/notebooks/data_table.ipynb>data table notebook</a>'\n",
              "            + ' to learn more about interactive tables.';\n",
              "          element.innerHTML = '';\n",
              "          dataTable['output_type'] = 'display_data';\n",
              "          await google.colab.output.renderOutput(dataTable, element);\n",
              "          const docLink = document.createElement('div');\n",
              "          docLink.innerHTML = docLinkHtml;\n",
              "          element.appendChild(docLink);\n",
              "        }\n",
              "      </script>\n",
              "    </div>\n",
              "  </div>\n"
            ]
          },
          "metadata": {},
          "execution_count": 355
        }
      ],
      "source": [
        "df.describe(include='number')"
      ]
    },
    {
      "cell_type": "code",
      "execution_count": 356,
      "metadata": {
        "colab": {
          "base_uri": "https://localhost:8080/"
        },
        "id": "xgiW2jOnGLIa",
        "outputId": "bda95bb6-c4a4-4c83-b1ec-d31659bbfff1"
      },
      "outputs": [
        {
          "output_type": "stream",
          "name": "stdout",
          "text": [
            "winery\n",
            "['Teso La Monja' 'Artadi' 'Vega Sicilia' 'Pago de Carraovejas'\n",
            " 'Toro Albala' 'Bodegas El Nido' 'Valdespino' 'Dominio de Pingus'\n",
            " 'Alvaro Palacios' 'Ordonez' 'Bodegas Valduero' 'Vina Sastre'\n",
            " 'Sierra Cantabria' 'Descendientes de J. Palacios' 'La Rioja Alta'\n",
            " 'Marques de Murrieta' 'Vinedos de Paganos' 'Emilio Moro'\n",
            " 'Quinta de la Quietud' 'Bodegas Mauro' 'Bodega Contador (Benjamin Romeo)'\n",
            " 'Remirez de Ganuza' 'Bodegas San Roman' 'Pago de Los Capellanes'\n",
            " 'Bodega Numanthia' 'Alto Moncayo' 'Mas Doix' 'Finca Moncloa'\n",
            " 'Bodegas Roda' 'Martinet' 'Recaredo' 'Clos Erasmus' 'Barbadillo'\n",
            " 'Gonzalez-Byass' 'Bodegas Amaren' 'Alvear' 'Equipo Navazos' 'Morca'\n",
            " 'Territorio Luthier' 'Rafael Palacios' 'Terra Remota'\n",
            " 'Dehesa de Los Canonigos' 'Miguel Merino' 'Gutierrez de la Vega' 'Alion'\n",
            " 'Aalto' 'Carmelo Rodero' 'Dominio del Bendito' \"Mas d'en Gil\"\n",
            " 'Casa Castillo' 'Matarromera' 'Nin-Ortiz' 'Vinas del Vero'\n",
            " 'Marques de Riscal' 'Arzuaga' 'Bodegas Mas Alta' 'Dominio de Calogia'\n",
            " 'Tomas Postigo' 'Cal Pla' 'Ossian' 'Cepa 21' 'Bodegas Vilano' 'Allende'\n",
            " 'Costers del Siurana' 'Hacienda Monasterio' 'Castillo Perelada' 'Osborne'\n",
            " 'Ysios' 'Marques de Grinon' 'Contino' 'Gramona' 'Dominio del Aguila'\n",
            " 'Hacienda Solano' 'Francisco Garcia Perez' 'Anima Negra' 'Castano'\n",
            " 'La Legua' 'Castillo de Cuzcurrita' 'Oxer Wines' 'Bodegas Yuste'\n",
            " 'Bodegas 6o Elemento - Vino Sexto Elemento'\n",
            " 'Proyecto Garnachas de Espana' 'Casal de Arman' 'Vall Llach'\n",
            " 'Pago de Larrainzar' 'Ukan Winery' 'Vina Real' 'Dominio de Atauta'\n",
            " 'Micro Bio (MicroBio)' 'Terroir Al Limit Soc. Lda' 'Finca Torremilanos'\n",
            " 'Huerta de Albala' 'Gomez Cruzado' \"Castell d'Encus\" 'Abadia Retuerta'\n",
            " 'Enate' 'Benjamin de Rothschild - Vega Sicilia' 'Bodegas Aragonesas'\n",
            " 'Telmo Rodriguez' 'Acustic Celler' 'Vina Pedrosa' 'Pintia' 'Belondrade'\n",
            " 'Muga' 'Clos Mogador' 'Bodegas Tradicion' 'Senorio de San Vicente'\n",
            " 'Francisco Barona' 'Juan Gil' 'Lan' 'R. Lopez de Heredia' 'Adama Wines'\n",
            " 'Milsetentayseis' 'Espectacle del Montsant' 'Tinto Pesquera'\n",
            " 'Ferrer Bobet' 'Familia Torres' 'Pazo Barrantes' 'Tio Pepe'\n",
            " 'Cruz de Alba' 'Emilio Rojo' 'Dominio de Es' 'Jesus Madrazo'\n",
            " 'Bodegas Naluar & Acediano' 'Marques de Caceres' 'Trus' 'Mestres'\n",
            " 'Chivite' 'Bodega Ribas' 'Vinas del Cenit' 'Mas del Serral' 'Cervoles'\n",
            " 'Diez Merito' 'Marques de Burgos' 'Penafiel' 'Tobia'\n",
            " 'Tresmano - Tr3smano' 'Sei Solo' 'Finca Villacreces'\n",
            " 'Virgen de la Asuncion' 'Romate' 'Sara Perez y Rene Barbier'\n",
            " 'Dehesa del Carrizal' 'Tarsus' 'Beronia' 'Monte Real' 'Divina Proporcion'\n",
            " 'Vina al Lado de la Casa' 'Marques de la Concordia' 'Agusti Torello Mata'\n",
            " 'Dominio de Cair' 'Valquejigoso' 'Veigamoura' 'Vizcarra' 'Legaris'\n",
            " 'Federico Paternina' 'Vinicola Real' 'Losada' \"Clos d'Agon\"\n",
            " 'Sacristia AB' 'Uvaguilera Aguilera' 'Emilio Hidalgo' 'Altos del Terral'\n",
            " 'El Regajal' 'Valderiz' 'Jose Pariente' 'Amos Baneres' 'Scala Dei'\n",
            " 'Bodegas Valdelana' 'Abel Mendoza Monge' 'Anayon' 'Sierra Salinas'\n",
            " 'Vinos Sanz' 'Cerro San Cristobal' 'Altos de Rioja'\n",
            " 'Bodegas Celler Francisco Castillo - Clos Dominic' 'La Vinya del Vuit'\n",
            " 'Venus la Universal' 'Pedralonga' 'Atalaya' 'Matsu' 'Marques de Vargas'\n",
            " 'Volver' 'Tridente' 'Ausas' 'Cillar de Silos' 'Imperial' 'Ramos-Paul'\n",
            " 'Bodega de Bardos' 'Rodriguez Sanzo' 'Antidoto' 'Bosque de Matasnos'\n",
            " 'Altanza' 'Remelluri' 'Perinet' 'La Vicalanda' 'Monovar' 'Alvaro Domecq'\n",
            " 'Los Aguilares' 'Bodega Rento' 'Dominio do Bibei' 'Marco Abella'\n",
            " 'Javier Sanz Viticultor' 'Protos' 'Harveys' 'Orben' 'Jaro'\n",
            " 'Bodegas Ximenez-Spinola' 'Bodegas El Paraguas' 'Mustiguillo'\n",
            " 'Vina Pomal' 'Astrales' 'Merum Priorati' 'Hacienda Lopez de Haro'\n",
            " 'Cayetano del Pino' 'La Unica' 'Pazo Senorans' 'Fefinanes' 'Resalte'\n",
            " 'Figuero' 'Pinea' 'Portal del Priorat' 'Cims de Porrera' 'Casa Rojo'\n",
            " 'Murua' 'Vinyes Domenech' 'Pago de Vallegarcia' 'Eulogio Pomares'\n",
            " 'Sangenis I Vaque' 'Delgado Zuleta' 'VALENCISO' 'Mas Perinet'\n",
            " 'Luis A. Rodriguez Vazquez' 'Chozas Carrascal' 'Alonso del Yerro'\n",
            " 'Clos Figueras' 'Bodegas Monte La Reina' 'Ontanon' 'Alta Alella'\n",
            " 'Bodega Elias Mora' 'Joan Simo' 'Can Axartell' 'Juan Pinero' 'Mas Llunes'\n",
            " 'Bodegas Frontaura' 'Roig Parals' 'Avgvstvs' 'Jorge Ordonez'\n",
            " 'Ramon Bilbao' 'Leda' 'Enric Soler' 'Es Fangar'\n",
            " 'Cal Batllet - Celler Ripoll Sans' 'Llopart' 'Portia' 'Ostatu'\n",
            " 'Finca Valpiedra' 'Baigorri' 'Vivaltus' 'Comenge'\n",
            " 'Collbaix Celler El Moli' 'Martinez Lacuesta' 'Pujanza' 'Albet i Noya'\n",
            " 'Olivier Riviere' 'Bodegas Tierra' 'Torre de Ona'\n",
            " 'Do Ferreiro (Bodegas Gerardo Mendez)' 'Martin Codax'\n",
            " 'Vinedos Hermanos Hernaiz' 'Freixenet' 'Azpilicueta' 'Veronica Salgado'\n",
            " 'Clos Galena' 'Bodegas Imperiales - Abadia de San Quirce' 'Marta Mate'\n",
            " 'Venta Las Vacas' 'Pago Calzadilla' 'Vivanco' 'Fernandez Gao' 'Museum'\n",
            " 'Farina' 'Galindo San Millan' 'Bodegas Casa Primicia' 'Castell Miquel'\n",
            " 'Barco del Corneta' \"Joan d'Anguera\" 'Xaloc' 'Carlos Moro'\n",
            " 'Bodegas Luis Perez' 'Ladairo' \"Conreria d'Scala Dei\" 'Traslascuestas'\n",
            " 'Lopez Cristobal' 'Codorniu' 'Sota els Angels' 'Berceo'\n",
            " 'Mas Blanch I Jove' 'Carlos Serres' 'David Moreno' 'Edra'\n",
            " 'Valdelosfrailes' 'Briego' 'Guillem Carol - Cellers Carol Valles'\n",
            " 'Barahonda' 'Particular' 'Bodegas Frontonio' 'Bodegas Asenjo & Manso'\n",
            " 'Luis Canas' 'Garmon' 'Williams & Humbert' 'Condado de Haza' 'Lustau'\n",
            " 'Bodegas Faustino' 'St. Petroni' 'Llanos Negros' 'Aster' 'Avancia'\n",
            " 'Marques de Tomares' 'Quinta Sardonia' 'Abadal' 'Hermanos Pecina'\n",
            " 'Biniagual' 'Breca' 'Pradorey' 'Terras Gauda' 'Bodega Tesalia'\n",
            " 'Pazo de Rubianes' 'Godeval' 'Bodegas Olarra' 'Taron' 'Sonsierra'\n",
            " 'Vins Miquel Gelabert' 'El Grillo y La Luna' 'De Moya' 'Campillo'\n",
            " 'Jean Leon' 'Bodegas Ateca' 'Bodega Campo Eliseo' 'Fernandez de Pierola'\n",
            " 'De Muller' 'Monteabellon' 'Pepe Mendoza Casa Agricola' 'Vinos Guerra'\n",
            " 'Neo' \"Terra d'Uro\" 'Zarate' 'Noelia Bebelia' 'Marti Fabra'\n",
            " 'Palmeri Sicilia' 'Mas Que Vinos' 'Bodegas Estraunza' 'Pittacum'\n",
            " 'Bodega Sommos' 'Celler de Capcanes' 'Arinzano' 'Pago del Vostal' 'Habla'\n",
            " 'Rodriguez de Vera' 'Callejuela' 'El Maestro Sierra' 'Paco & Lola'\n",
            " 'Valtravieso' 'Costers del Priorat' 'Bodegas Urium' 'Bodega Otazu'\n",
            " 'Perez Barquero' 'Oller del Mas' 'Bodegas Clunia' 'Bodegas Ochoa'\n",
            " \"Ca l'Apotecari\" 'Josep Grau Viticultor' 'Fos' 'Hacienda Grimon'\n",
            " 'Capafons-Osso' 'Can Rafols dels Caus' 'Raul Perez' 'Dominio de la Vega'\n",
            " 'Juve & Camps' 'Mas de les Pereres' 'Guilera'\n",
            " \"l'Infernal Combier Fischer Gerin\" 'Jorge Piernas' 'Balandro'\n",
            " 'M. Antonio de la Riva' 'Espelt' 'Bodegas Arfe' 'Real de Asua'\n",
            " 'Vinyes dels Aspres' 'Valserrano' 'Shaya' 'Finca Rio Negro' 'Loxera'\n",
            " 'Dominio Fournier' 'Bodegas Yzaguirre' 'Neton' 'Bodega Aida i Luis'\n",
            " 'Cartoixa de Montsalvat' 'El Lagar de Isilla' 'Anibal de Otero'\n",
            " 'Altos del Enebro' 'Albamar' 'Can Bas' 'Atlantida' 'Atlan & Artisan'\n",
            " 'Olivardots' 'Lar de Paula' 'La Val' 'Tres Piedras' 'Javi Revert'\n",
            " 'Lambuena' 'Attis' 'San Cobate' 'Santa Petronila' 'Jimenez-Landi'\n",
            " 'Hidalgo (La Gitana)' 'Gallina de Piel' 'Arid' 'Bodegas Reyes'\n",
            " 'Hugas de Batlle' 'Bodegas Arrocal' 'Buil & Gine' 'Castell del Remei'\n",
            " 'Valdubon' 'Bodegas Y Vinedos Alilian' 'Sebio' 'Goyo Garcia Viadero'\n",
            " 'Santiago Ruiz' 'Mauro Estevez' 'Mas Bertran' 'Bodegas Gama' 'Edetaria'\n",
            " 'Hacienda Zorita Natural Reserve' 'Ton Rimbau' 'Can Xanet' 'A Coroa'\n",
            " 'Alonso & Pedrajo' 'Mandia Vell' 'Bodega Juan Carlos Sancha'\n",
            " 'Valdecuevas' 'Algueira' 'Mocen' 'Estones' 'Bodega Tameran' 'Inurrieta'\n",
            " 'Flor de Chasna' 'Lagar de Sabariz' 'Naia' 'AGE' 'Navajas'\n",
            " 'Vinyes del Terrer' 'Cepas Familiares' 'Dominio de Loalva' 'Zifar'\n",
            " 'Bordalas Garcia' 'Rimarts' 'Pinna Fidelis' 'Loess' 'Dominio de Anza'\n",
            " 'Samsara' 'Cuentavinas' 'Felix Solis' 'El Coto' 'Mar de Frades'\n",
            " 'Montecastro' 'Bodegas La Horra' 'Baluarte' 'Hispano Suizas' 'Murviedro'\n",
            " 'Diez Caballero' 'Vegalfaro' 'Palacios Remondo' 'Fernando de Castilla'\n",
            " 'Bohorquez' 'Adega Familiar Eladio Pineiro' 'Culebron' 'Enrique Mendoza'\n",
            " 'Clos Pons' 'Ramon do Casar' 'Binigrau']\n",
            "\n",
            "\n",
            "wine\n",
            "['Tinto' 'Vina El Pison' 'Unico' 'Unico Reserva Especial Edicion'\n",
            " 'El Anejon' 'Don PX Convento Seleccion' 'Cuesta de Las Liebres' 'El Nido'\n",
            " 'Toneles Moscatel' 'Pingus' 'Don PX Pedro Ximenez'\n",
            " \"L'Ermita Velles Vinyes Priorat\" 'Vatan Arena Tinta de Toro'\n",
            " 'Ribera Del Duero Gran Reserva 12 Anos' 'Pesus Ribera del Duero' 'Magico'\n",
            " 'La Faraona Bierzo (Corullon)' 'Gran Reserva 890' 'Valbuena 5o'\n",
            " 'Castillo Ygay Gran Reserva Especial Blanco' 'La Nieta'\n",
            " 'Malleolus de Valderramiro' 'Malleolus de Sanchomartin' 'Alabaster'\n",
            " 'La Mula de la Quietud' 'Terreus Paraje de Cueva Baja' 'Contador Rioja'\n",
            " 'Maria Remirez de Ganuza' 'Cartago Paraje de Pozo'\n",
            " 'Parcela El Picon Tinto' 'Termanthia' 'Clon De La Familia'\n",
            " 'Aquilon Garnacha' 'Quinon de Valmira' '1902 Centenary Carignan Priorat'\n",
            " 'Tintilla de Rota' 'Cirsion Rioja' 'Cami Pesseroles' \"Turo d'en Mota\"\n",
            " 'Priorat' 'Reliquia Palo Cortado Sherry' 'Anada Palo Cortado 1987'\n",
            " 'Daphne Glorian Red' 'El Regollar' 'Abuelo Diego Palo Cortado'\n",
            " 'La Bota 78 de Oloroso' 'Touran' 'Luthier Gran Reserva'\n",
            " 'Sorte O Soro Val do Bibei' 'Reserva Particular de Recaredo Brut Nature'\n",
            " 'Usted' 'Gran Reserva' 'Regina Vides Ribera del Duero' 'La Loma'\n",
            " 'Recondita Armonia Monastrell Dulce'\n",
            " 'Castillo Ygay Gran Reserva Especial Tinto' 'Ribera del Duero'\n",
            " 'PS (Pagos Seleccionados) Ribera del Duero' 'Flor de Pingus'\n",
            " 'Pago De Valtarrena' 'El Titan del Bendito' 'Dalmau Rioja'\n",
            " 'Finca el Bosque' 'Pago de Santa Cruz' 'Clos Fonta Priorat'\n",
            " 'Cuvee N Vinas Viejas' 'Ribera del Duero Prestigio Pago de las Solanas'\n",
            " \"Nit de Nin Mas d'en Cacador\" 'VS' 'Blecua Somontano'\n",
            " 'Frank Gehry Selection' 'Amaya Arzuaga (Coleccion)' 'La Creu Alta'\n",
            " '5o Ano Ribera del Duero Tinto' 'Planots Priorat' 'Capitel'\n",
            " 'Gran Arzuaga Ribera del Duero' 'Horcajo' 'Aurus' \"Dolc de L'Obac\"\n",
            " 'Trasnocho' 'Doroteo Edicion Especial 25 Aniversario'\n",
            " 'Tierra Alta de 2 Racimos Gran Reserva'\n",
            " 'Reserva Especial Ribera del Duero' 'Reserva Especial'\n",
            " 'Gran Buig Priorat' 'Finca Garbet' 'Solera India Oloroso Rare Sherry'\n",
            " 'Amancio' 'Gines Liebana Pedro Ximenez' 'Don PX Seleccion' 'Reserva'\n",
            " 'Finca Las Naves' 'AAA' 'Vina del Olivo' 'Les Aubaguetes Priorat'\n",
            " 'Cava Enoteca Finca La Plana Brut Nature' 'Gran Reserva Penas Aladas'\n",
            " 'Pena Lobera' 'Adega do Moucho Treixadura' 'Son Negre'\n",
            " 'Casa Cisca Monastrell' 'Moncerbal Bierzo (Corullon)' 'Capricho'\n",
            " 'Cerrado del Castillo Rioja' 'Kalamity Rioja'\n",
            " 'Conde de Aldama Amontillado' 'Respeto'\n",
            " 'El Garnacho Viejo de la Familia Acha' 'Ribera del Duero Prestigio'\n",
            " 'Finca Misenhora Edicion Limitada' 'La Poza de Ballesteros'\n",
            " 'Reserva Rioja (Finca Ygay)' 'Idus' 'Rosado de Larrainzar'\n",
            " 'Valdafoz Bierzo (Corullon)' 'Rioja Gran Reserva'\n",
            " 'Valdegatiles Ribera del Duero' 'Respublica Verdejo' 'Les Tosses'\n",
            " 'Torremilanos Coleccion Ribera del Duero' 'El Carretil' 'Taberner No. 1'\n",
            " 'Vina Motulleri' 'Saktih' 'Cuvee Palomar' 'Uno Tinto' 'Macan'\n",
            " '1903 Centenary Grenache' 'Galiano Seleccion Especial' 'Molino Real'\n",
            " 'Etern Vinyes Molt Velles' '40 Aniversario Gran Reserva' 'Solera BC-200'\n",
            " 'Corpinnat Enoteca Reserva Particular de Recaredo' 'Toro' 'Clio'\n",
            " 'Garnacha' 'Parcela El Nogal Tinto' 'Belondrade y Lurton' 'Rioja Reserva'\n",
            " 'Prado Enea Gran Reserva' 'Pedro Ximenez Tradicion 20 Years Old Vos'\n",
            " 'Torre Muga' 'Aro' 'San Vicente Rioja' 'Ribera del Duero TSM'\n",
            " 'Ribera Del Duero Reserva Premium 6 Anos' \"Clos de L'Obac\"\n",
            " 'Reserva Ribera del Duero' 'Ribera Del Duero' 'Bruto'\n",
            " 'Culmen Reserva Rioja' 'Vina Tondonia Gran Reserva' 'Petit Verdot'\n",
            " 'Clos Martinet' 'Millenium Gran Reserva' 'Finca Dofi'\n",
            " 'Gran Reserva Ribera del Duero' 'Seleccio Especial Vinyes Velles'\n",
            " 'Calvario Rioja' 'Ribera del Duero Una Cepa I' 'Grans Muralles'\n",
            " 'Gran Vino Albarino' 'Cuatro Palmas Amontillado' 'Pago Garduna'\n",
            " 'La Cueva del Contador Rioja' 'Solera 1830 Pedro Ximenez'\n",
            " 'Que Bonito Cacareaba Blanco' 'Baron de Chirel Rioja Reserva'\n",
            " 'Emeritvs (Emeritus)' 'Finca Los Hoyales Ribera del Duero' 'Blanco'\n",
            " 'La Basseta' 'Territorio Luthier Reserva'\n",
            " 'Vinas Viejas de Soria Ribera Del Duero'\n",
            " 'Pago de Santa Cruz Gran Reserva Ribera del Duero'\n",
            " 'As Sortes Val do Bibei Godello' 'Seleccion Rioja' 'Millenium Reserva'\n",
            " 'Acediano' 'Gaudium' 'Pico de Luyas' 'Grandes Anadas Rioja'\n",
            " 'Mas Via Gran Reserva Brut' 'Navarra Coleccion 125 Blanco'\n",
            " 'Chardonnay Uno' 'Don PX Vieja Cosecha' 'Ribas de Cabrera' 'Cenit'\n",
            " 'Mas del Serral' 'Estrats' 'Fino Imperial Amontillado 30 Anos'\n",
            " 'Coliseo Amontillado VORS' 'Vina Tondonia Gran Reserva Blanco' '8000'\n",
            " 'Mironia Black Edition Tempranillo' 'Miserere' 'Alma Tobia Rioja' 'Tm'\n",
            " 'Doix' 'Nebro Ribera del Duero' 'El Canto del Angel'\n",
            " 'Rioja Blanco Reserva' 'Cayetano del Pino Viejisimo Palo Cortado'\n",
            " 'Gratallops Partida Bellvisos' 'Coleccion Privada' 'Finca El Canto'\n",
            " 'Finca Cascorrales' 'Rioja Gran Reserva 904'\n",
            " 'Marques de Poley Amontillado Seleccion 1951' 'Platon Tinto'\n",
            " 'Altos de Las Gateras Monastrell' 'Canta la Perdiz'\n",
            " 'Marques de la Concordia VSG Premium (formerly Hacienda de Susar Rioja)'\n",
            " 'Cava Kripta Gran Reserva Brut Nature' 'Alba de Miros Rueda Verdejo'\n",
            " 'Pendon De La Aguilera' 'V2 Tinto' 'Celia' 'Calmo' 'Confesor Rioja'\n",
            " 'La Bienquerida' 'Seleccion Especial' 'Saca Unica' 'Palomero'\n",
            " 'Grano a Grano' 'Santa Ana Pedro Ximenez 1861'\n",
            " 'Cuvee Julia Ribera del Duero' 'Las Lamas Bierzo (Corullon)'\n",
            " '200 Monges Rioja Reserva Seleccion Especial' 'Galia Clos Santuy'\n",
            " 'Tomas Esteban' 'Finca Las Comas Verdejo' 'Diables'\n",
            " 'St Antoni de Scala Dei Priorat' 'Valdegines' 'Seda de Oro Reserva'\n",
            " 'Grano a Grano Graciano - Garnacha' 'Carraquintana de Amaren'\n",
            " 'Garnacha Parcela 81 Vinas Viejas'\n",
            " \"Cava Enoteca Finca de L'Origen Brut Nature\" 'Salinas 1237'\n",
            " 'Cabernet Sauvignon' 'Finca La Colina Sauvignon Blanc'\n",
            " 'Dominio del Verso Red Blend' 'Altos R Pigeage Nacido en Barrica Blanco'\n",
            " 'Vinyes Altes Porrera' 'La Vinya del Vuit (8)' 'Venus de la Figuera'\n",
            " 'Vendetta' 'Ribera del Duero Reserva' 'Malleolus'\n",
            " 'Seleccion Especial (Reserva)' 'Cosecha' 'Red' 'Vina Ardanza Reserva'\n",
            " 'Roda I Reserva Rioja' '3er Ano Ribera del Duero Tinto' 'Macan Clasico'\n",
            " 'Alaya Tierra (Old Vines Vieilles Vignes)' 'El Viejo'\n",
            " 'Hacienda Pradolagar' '200 Monges Rioja Reserva' 'Reserva Tinto'\n",
            " 'Jumilla Blue Label' 'Palo Cortado Tradicion Vors 30 Years Sherry'\n",
            " 'Triga' 'Amontillado Tradicion Vors 30 Years' 'Victorino'\n",
            " 'Reserva Privada Rioja' 'Pago Negralada' 'Rejon Tempranillo'\n",
            " 'Interpretacion' 'Vendimia' 'Priorat Vinyes Velles' 'Tempranillo Reserva'\n",
            " 'Cream Tradicion Vos 20 Years' 'Vatan Tinta de Toro' 'Dominio del Pidio'\n",
            " 'Pagos Viejos' 'An' 'Numanthia' 'Suprema 30 Meses'\n",
            " 'Whisba Tempranillo Aged 18 Months in Whisky Barrels' 'A Mano Rioja'\n",
            " '200 Monges Rioja Gran Reserva' 'La Hormiga de Antidoto'\n",
            " 'Le Domaine Blanco de Guarda' 'Edicion Limitada'\n",
            " 'Lealtanza Coleccion de Artistas Espanoles Sorolla'\n",
            " 'Granja Gran Reserva Rioja' 'Perez Pascuas Gran Reserva Seleccion'\n",
            " 'El Puntido Gran Reserva' 'Cuvee Old Vines Unfiltered' 'Fondillon'\n",
            " '1730 Pedro Ximenez' 'Cirerets' 'Vinas Viejas Verdejo' 'Tadeo Tinto'\n",
            " 'Tierras de Cair Reserva' 'Gran Reserva Rosado' 'Cava Celler Batlle'\n",
            " 'Rioja Blanco' 'Lapola' 'Clos Abella Seleccion Especial' 'Pie Franco'\n",
            " 'Singular V Malcorta Verdejo' 'Serral del Vell Brut Nature'\n",
            " 'Seleccion Finca el Grajo Viejo' '30 Years VORS Pedro Ximenez Sherry'\n",
            " 'Malpuesto' 'Chafandin' 'La Vina de Andres Romeo Rioja'\n",
            " 'Delicado Cosecha Pedro Ximenez' 'Atlantico' 'Quincha Corral'\n",
            " 'Els Escurcons' 'Vinos Singulares Tempranillo Blanco Reserva'\n",
            " 'Christina Ribera del Duero' 'Desti' 'Gran Reserva Classica Tinto'\n",
            " 'Godello Blanco' 'Palo Cortado 1/10' 'Fourth Edition'\n",
            " 'Seleccion de Anada Albarino Rias Baixas' 'Albarino de Fefinanes III Ano'\n",
            " 'Perpetual' 'El Cel' 'Montes Obarenes Seleccion Terroir'\n",
            " 'Porrera Vi de Vila' 'Gran Ribera del Duero' 'Heretge Priorat'\n",
            " 'Vinas Viejas' 'Sibarita Oloroso Jerez-Xeres-Sherry 30 Years V.O.R.S'\n",
            " '17' 'Clos del Portal Tros de Clos' 'Classic' 'Minami'\n",
            " 'Vi de Vila Gratallops' 'Veguin de Murua Gran Reserva'\n",
            " 'O Luar do Sil Valdeorras Godello Sobre Lias' 'Teixar'\n",
            " 'Anada Pedro Ximenez' 'Clos del Portal Somni' 'Les Manyes'\n",
            " 'Emporda Aires de Garbet' 'Montes de Toledo Syrah'\n",
            " 'Maceracion Con Pieles' 'Clos Monlleo' 'B.Rodriguez La-Cave Quo Vadis?'\n",
            " 'La Solana Alta' 'Rioja Reserva 10 Anos Despues Edicion Limitada'\n",
            " 'Perinet + Plus' 'Vina de Martin Escolma Ribeiro'\n",
            " 'Ribera del Duero Torralvo' 'El Cabernet F - Familiar' 'Premium'\n",
            " 'Hipperia Red Blend' 'Maria Ribera del Duero' 'Vendimia Seleccionada'\n",
            " 'Clos Figueres' 'Castillo de Monte la Reina Cuvee Privee'\n",
            " 'Amontillado Saca' 'Queiron Reserva Vinedos Familiares'\n",
            " 'Don PX Gran Reserva' 'Llanos del Almendro Ribera del Duero'\n",
            " 'Dolc Mataro' 'Toro 2V Premium' 'Les Eres Vinyes Velles'\n",
            " 'Gran Reserva Classica Blanco' 'The Artist'\n",
            " 'Amontillado 30 Years Old V.O.R.S Sherry'\n",
            " 'La Comtesse de Pazo Barrantes Albarino' '5V Blanco'\n",
            " 'Finca Butaros Vinya Centenaria' 'Seleccion Privada'\n",
            " \"Aponte Winemaker's Private Collection Tempranillo\" 'Cami de Cormes'\n",
            " '1194' 'Malabrigo Ribera del Duero' 'Old & Plus Pedro Ximenez'\n",
            " 'Reserva Trajanvs' 'No. 2 Victoria' 'Emporda Gran Claustro'\n",
            " 'Lalomba Finca Valhonta' 'Manyetes' 'Pago Valdebellon'\n",
            " 'Guarda de Leda Seleccion Tempranillo' 'Nun Vinya dels Taus'\n",
            " 'Lo Cortinelo.Lo Blanc' '5 Partides Gratallops Vi de La Vila'\n",
            " 'Cava Ex-Vite Gran Reserva Brut' 'Summa Edicion Limitada'\n",
            " 'Pago El Espino' 'Gloria Rioja' 'Petra de Valpiedra Garnacha'\n",
            " 'Alto de la Caseta' 'Mas de la Rosa' 'Rioja B70' 'Don Miguel'\n",
            " 'Singular Negre' 'Rioja Reserva Especial' 'Rioja Cisma' 'Martires Rioja'\n",
            " 'Cava Original Brut (Espumos)' 'Marti Reserva Penedes'\n",
            " 'Vina Ardanza Reserva Seleccion Especial' 'Oloroso 30 Years Old V.O.R.S'\n",
            " 'Pozo Alto' 'El Cristo de Samaniego' 'El Belisario'\n",
            " 'Baron de Ona Rioja Reserva' 'Cepas Vellas Rias Baixas Albarino'\n",
            " 'La Aguilera' 'Pirata' 'Hispania' 'Arousa' 'Las Cenizas Tempranillo'\n",
            " 'Solanes Priorat' 'Cava Cuvee De Prestige Trepat'\n",
            " 'Felix Azpilicueta Coleccion Privada' 'Savinat Sauvignon Blanc'\n",
            " 'Capricho Crianza' 'Finca La Emperatriz Vinedo Singular Tinto' 'Galena'\n",
            " 'Solera PAP Palo Cortado Rare Sherry' 'Finca Helena' 'Primordium'\n",
            " 'La Cuartilleja Reserva' 'Noble' 'De Garage Rioja' 'Gran Calzadilla'\n",
            " '4 Varietales Coleccion Rioja' 'Oloroso' 'Numerus Clausus'\n",
            " '200 Monges Rioja Seleccion Especial Reserva Blanco'\n",
            " '30 Years V.O.R.S Very Old Palo Cortado Blend Medium Sherry'\n",
            " 'Campus Gothorum' 'La Pizca' 'La Bota 90 de Manzanilla Pasada'\n",
            " 'Moradillo de Roa' 'Cofradia' 'Stairway To Heaven Rosado' 'La Silleria'\n",
            " 'Planella' 'Gallaecia Rias Baixes Albarino' 'Monada' 'Verdejo'\n",
            " 'Vina Garugele' 'Barrica' 'Voltons' 'Ekam Essencia'\n",
            " 'Valcavado de Traslascuestas' 'Oscar Tobia Gran Reserva Rioja'\n",
            " 'La Baixada' 'Seleccion' 'Cava El Tros Nou Pinot Noir'\n",
            " 'Los Dominios de Berceo Prefiloxerico' 'Old & Plus Amontillado'\n",
            " 'Sao Expressiu' 'Onomastica Rioja Reserva' 'Vina Arana Gran Reserva'\n",
            " 'Carinena Parcela 15 Vinas Viejas' 'Vobiscum' 'La Navilla'\n",
            " 'Merlot - Syrah' 'Casta Diva Cosecha Miel Moscatel Dulce'\n",
            " 'Pago de Las Costanas' 'Cava Gran Reserva Familiar Millenium Brut'\n",
            " 'Zona Zepa Monastrell' 'Alma Tobia Blanco' 'Garnacha Vinas Centenarias'\n",
            " 'El Jardin de las Iguales Vinedo Historico Garnacha'\n",
            " 'Silvanus Edicion Limitada Ribera del Duero' 'San Valentin Parellada'\n",
            " 'Vina Tondonia Reserva' 'PSI' 'Ribera del Duero Crianza'\n",
            " 'Mas La Plana Cabernet Sauvignon' 'Crianza Tinto'\n",
            " 'Bosque de Matasnos Etiqueta Blanca' 'Matusalem Sherry VORS'\n",
            " 'Reserva Seleccion de la Familia' 'Apostoles 30 Years Old Sherry'\n",
            " 'Gran Reserva Rioja (Finca Ygay)' 'El Puntido'\n",
            " 'Don Guido Pedro Ximenez Solera Especial Aged 20 Years'\n",
            " 'Gran Reserva Rioja' 'La Baraja' 'Finca Malaveina' 'Reserva XR'\n",
            " 'Alenza Ribera del Duero Gran Reserva' 'Chardonnay Fermentado en Barrica'\n",
            " 'Alicante Bouschet by Tarima' 'Oloroso Tradicion Vors 30 Years'\n",
            " 'Dominio de Atauta' 'Crianza' 'Laurel' 'Seleccion La Aguilera'\n",
            " 'Finca Martelo' 'Pedro Ximenez Murillo Seleccion del Centenario' 'Mirto'\n",
            " 'I Gran Reserva' 'Roda Reserva Rioja' 'Rioja Vina Coqueta'\n",
            " 'Vermello Vermu' 'Capellania Reserva' 'Los Tabaqueros'\n",
            " 'Torre Albeniz Reserva Ribera del Duero' 'Finca El Otero'\n",
            " 'Familia Comenge Reserva' 'Tierra Alta de 2 Cotas Reserva'\n",
            " 'Fagus de Coto de Hayas Garnacha' 'Finca Terrerazo' 'Godello'\n",
            " 'Godina Garnacha' 'QS' 'Don Miguel Comenge Reserva' '3.9'\n",
            " 'Finca Iscorta Gran Reserva' 'Finca Biniagual Veran' 'Brega Garnacha'\n",
            " 'Elite' 'La Mar' 'Nelin Priorat' 'Arcos de la Frontera' 'Albarino'\n",
            " 'Cepas Vellas Godello' 'Las Sabias' 'Cerro Anon Rioja Gran Reserva'\n",
            " 'Ekam' 'Masdeu' 'Pantocrator' 'Senorio de Cuzcurrita Rioja'\n",
            " 'Silencio de Miros Ribera Del Duero' 'Queiron Mi Lugar'\n",
            " 'Purgatori Costers del Segre' 'Perfume de Sonsierra' 'Chardonnay Roure'\n",
            " 'Rioja Graciano' 'ARX Arcos de la Frontera'\n",
            " 'Navarra Reserva Coleccion 125' 'Venus' 'Grillo' 'Prieto Picudo' 'Sofia'\n",
            " 'Finca Cuesta Clara Raro Reserva' 'Fermentado En Barrica Blanco'\n",
            " 'Ribera Del Duero Gran Reserva'\n",
            " 'Vinya La Scala Gran Reserva Cabernet Sauvignon'\n",
            " 'Atteca Armas Garnacha Old Vines' 'Syrah (Shiraz)' 'Campo Eliseo'\n",
            " 'Vinas Viejas Tempranillo' 'Vitium Reserva' 'Lo Cabalo Reserva'\n",
            " 'Finca Matambres' 'Suzzane Rioja' 'Giro de Abargues'\n",
            " 'Reserva Vermouth Rojo' 'Punta Esencia' 'Pla dels Angels Rosado' 'Uro'\n",
            " 'Tras da Vina Albarino' 'Masia Carreras Negre' 'Branco Vermu'\n",
            " 'Palmeri Navalta Garnacha' 'La Plazuela' 'Solar de Estraunza Reserva'\n",
            " 'III a.C' 'Matallana' 'Rioja Norte' 'Artigas' 'Julia'\n",
            " 'Jerez-Xeres-Sherry 30 Year Old Oloroso VORS' 'Pancrudo' 'Aurea'\n",
            " 'Coleccion Syrah' \"Flor de Primavera Peraj Ha'abib\"\n",
            " 'Altos de Losada El Cepon' 'Gran Vino Blanco'\n",
            " 'Crianza Vendimia Seleccionada' 'Vermouth Reserva' 'Finca Azaya Premium'\n",
            " 'Ribera del Duero Tinto' 'No. 20' 'La Casilla Amontillado' 'Palo Cortado'\n",
            " 'Martelo Reserva' 'Vintage Albarino' 'Cardenal Palo Cortado VORS'\n",
            " 'Vallegarcia Viognier' 'Finca la Atalaya Reserva'\n",
            " 'Clos Cypres Vinyes Velles (Old Vines)' 'Castineiro Albarino'\n",
            " 'Amontillado V.O.R.S' 'Altar' 'Gran Barquero Palo Cortado Solera 25 Anos'\n",
            " 'Toro Gran Elias Mora' 'Arnau Oller Seleccio de la Familia' 'Orbus'\n",
            " 'Malbec' 'Altos de Losada' 'Reserva Especial Rioja' 'La Time'\n",
            " 'Vendimia Tardia Moscatel' 'Hiru 3 Rioja Racimos' 'Triaca'\n",
            " 'Amontillado 51-1a 30 Years VORS Sherry' 'Cyclo' 'Maimo Garnatxa'\n",
            " 'Fos Baranda' 'Finca la Oracion' 'Albarino Pedralonga' 'Mas de Masos'\n",
            " 'Com Tu' 'El Rocallis' 'Iugiter' 'Ultreia Valtuille Mencia'\n",
            " 'La Chispa Negra' 'Sauvignon Blanc' 'Clos Adrien' 'Laderas Rioja'\n",
            " 'Blanco de Parcela' 'Finca la Beata Bobal' 'Resalte Expresion'\n",
            " 'Cava Brut Milesime' 'Syrah de Matasnos'\n",
            " 'Massipa de Scala Dei Garnatxa Blanca - Xenin' 'Nunci Negre'\n",
            " 'Oloroso Extra Viejo 1/7' 'Musivari Gran Reserva Brut Nature'\n",
            " 'Faustino de Autor Reserva Especial' 'Vinas Viejas Aguilera'\n",
            " 'Juan Piernas Finca El Paso Malo Monastrell' 'Pedra de Guix'\n",
            " 'Vinyes Velles de Samso' 'Malvasia' 'La Bota 69 de Amontillado'\n",
            " 'Antigues Reserves' 'Baron de Chirel Verdejo Vinas Centenarias'\n",
            " 'Milagros de Figuero' 'Las Botas Palo Cortado Horizontal'\n",
            " 'La Riva Fino Balbaina Alta' 'Coma Bruna'\n",
            " 'Palo Cortado de la Cruz de 1767' 'Grano a Grano Tempranillo' \"S'Alou\"\n",
            " 'Altos R Pigeage' 'Finca Monteviejo' 'Habis' '5o Ano' 'Gaminde'\n",
            " 'Varietal Fermentacion Lenta' 'El Cordero y las Virgenes'\n",
            " 'Selection 1884 Vermouth Gran Reserva' 'Garnacha Tintorera'\n",
            " 'Penalba Lopez Blanco' 'Cabernet' 'El Cuentista'\n",
            " 'Tahulla Moscatel Blanco Seco' 'Juegabolos' 'Sketch' 'Montsalvat'\n",
            " 'Sio Negre' 'Pago de Otazu Chardonnay Con Crianza'\n",
            " 'Verdejo Fermentado en Barrica' 'Vinyes Altes de Les Garrigues Vi Blanc'\n",
            " 'Vina Centenaria Mencia' 'Cerro del Lobo Syrah' 'Summum Monastrell'\n",
            " 'Finca La Herradura' 'Alma de Mar Albarino' 'Canasta 20 Anos Cream'\n",
            " 'Rioja Anadas Frias' 'Monreal' '8 Vents Mallorca'\n",
            " \"Vd'O 1 Samso - Pissarra\" 'Cava Gran Reserva La Capella Brut'\n",
            " 'Coleccion No. 3 Cosecha' 'Albarino Sobre Lias' 'Nobbis'\n",
            " 'Rara Avis Prieto Picudo' 'Sensal' 'Campo Eliseo Blanco' 'Blanc de Neu'\n",
            " 'T3rno Seleccion de 3 Parcelas Ribera del Duero' 'Fino La Barajuela'\n",
            " 'Parcelas de Maturana Tinta Coleccion Rioja' 'Reserva Real'\n",
            " 'Attis Embaixador Albarino' 'Vitola Reserva' 'San Cucufate Monasterio'\n",
            " 'Tras Los Muros Albarino' 'CM Tinto'\n",
            " 'La Loma & Los Santos Garnacha Blanca - Macabeo'\n",
            " 'Gratallops Escanya-Vella' 'Lalomba Finca Ladero' 'Oloroso En Rama'\n",
            " 'El Reventon Cebreros'\n",
            " 'Amontillado Napoleon Vinos Viejos 30 Year Old Sherry'\n",
            " 'Navarra Vendimia Tardia Coleccion 125' 'Manar dos Seixas'\n",
            " '200 Monges Edicion Exclusiva Blanco Reserva' 'Eolic Sauvignon Blanc'\n",
            " 'Finca Valmediano Tinta de Toro 16 Meses Barrica' 'Cantos del Diablo'\n",
            " 'Teofilo Reyes Crianza' 'Falguera' 'Epistem No. 3'\n",
            " 'Angel Ribera del Duero' 'Pleret' 'A Torna dos Pasas Escolma Ribeiro'\n",
            " 'Costers Del Segre 1780' 'Ines' 'Honoris' 'La Revelia Godello'\n",
            " 'Club Rioja Reserva' 'Camino del Abuelo Vinas Viejas'\n",
            " 'La Morera de San Lazaro' 'Quintanilla' 'Salvaxe'\n",
            " 'Vi De Glass Gewurztraminer' 'Finca Los Quemados' 'Albarino (O Rosal)'\n",
            " 'Rioja' 'Vino de Autor Ribeiro Blanco'\n",
            " 'Argila Reserva 3 Anys Brut Nature' 'Octogenarius' 'Finca La Pedrissa'\n",
            " 'Magister' 'Ribera del Duero Vendimia Seleccionada VT'\n",
            " 'Porcellanic VI Xarel-lo Sur Lie' 'Sibila'\n",
            " 'Emporda Reserva Especial Don Miguel Mateu' '200 Cestos Godello'\n",
            " 'Heaven & Hell' 'Cabrida Montsant' 'Suane Blanco' 'Pinot Noir'\n",
            " 'Cerro La Isa Blanco' 'Cuvee Verdejo' 'Anadelia' 'Tabuerniga'\n",
            " 'Seleccion Especial Verdejo' \"Coster d'en Fornos\" 'Malvasia Volcanica'\n",
            " 'Laderas de Inurrieta' 'El Velado Tinto' 'Blanco Afrutado' 'A Pita Cega'\n",
            " 'Naiades' 'Fuenmayor Gran Reserva' 'Mirador de Navajas Reserva Rioja'\n",
            " 'Coleccion Roberto Amillo Amontillado' '1730 Amontillado'\n",
            " 'Cerro La Isa Garnacha' 'Nus del Terrer' 'Nivel' 'Le Rose'\n",
            " 'Pago de las Sabinas' 'Old & Plus Oloroso'\n",
            " 'Coleccion Roberto Amillo Palo Cortado' 'Gueta-Lupia' 'Marmajuelo'\n",
            " 'Cava Reserva Especial Chardonnay Brut Nature'\n",
            " 'Ribera del Duero Vendimia Seleccionada' 'No. 23'\n",
            " 'Las Iruelas El Tiemblo' 'V Dulce de Invierno' 'Diego Magana' 'Graciano'\n",
            " 'Cerro Las Cuevas Seleccion Terroir' 'Altos R Pigeage Graciano' 'Ronda'\n",
            " 'Nisia Las Suertes Verdejo Old Vines' 'Territori' 'Alomado'\n",
            " 'Selma de Nin Blanco' 'Senda de Los Olivos Roble' 'Mucho Mas Tinto'\n",
            " 'Coto de Imaz Rioja Gran Reserva' 'Vina Alberdi Reserva'\n",
            " 'Rias Baixas Albarino Atlantico' '27 Ribera del Duero'\n",
            " 'Terras Gauda O Rosal' 'Salmos' 'Vina Bosconia Reserva' 'Louro Godello'\n",
            " 'La Atalaya del Camino' 'Rioja 150 Aniversario' 'Veraton Garnacha'\n",
            " 'Alexander vs. The Ham Factory' 'Vina Alberdi Crianza'\n",
            " 'Taberner Tierra de Cadiz' 'Gessami' 'Finest Old Harvest Medium'\n",
            " 'Ribera del Duero Red' 'Corimbo I' 'Vermut Rojo'\n",
            " 'Vina Tondonia Reserva Blanco' 'Reserva 5 Ano'\n",
            " 'Del Duque Amontillado Sherry VORS' 'Les Terrasses Velles Vinyes Priorat'\n",
            " 'Les Terrasses Laderas de Pizarra' 'Inici' '5 Finques (Fincas) Reserva'\n",
            " 'Martinet Bru (Garnatxa - Syrah)' 'Ribera Del Duero Reserva' 'Muscat'\n",
            " 'Angeles de Amaren Tempranillo - Graciano' 'Bassus Pinot Noir'\n",
            " 'Sericis Cepas Viejas Monastrell' 'Rioja Reserva Fincas de Ganuza'\n",
            " 'Corpinnat Terrers Brut Nature'\n",
            " 'Dos Cortados Palo Cortado Solera Especial Aged 20 Years'\n",
            " 'Oscar Tobia Reserva Rioja' 'Rioja Satinela Blanco Semidulce'\n",
            " 'Clos del Portal Negre de Negres' 'Solideo' 'Preludio'\n",
            " 'Reserva Tempranillo' 'Coma Vella Priorat' 'Las Ocho (8) Tinto'\n",
            " 'Pago de los Balagueses Syrah' 'Bagus Ribera del Duero'\n",
            " 'Formiga de Vellut' 'Tierra Alta En 2 Maderas' 'Propiedad  Rioja'\n",
            " 'Reserva Especial Icon Edition' 'Antique Palo Cortado'\n",
            " 'Vina Lanciano Reserva'\n",
            " 'Jalifa Amontillado Rare Old Dry Solera Especial Aged 30 Years'\n",
            " 'La Felisa' 'Milmanda' 'Envidiacochina (Tete de Cuvee)' 'Adaro'\n",
            " 'Fondillon Gran Reserva' 'Monastrell - Syrah Finca Espolla' 'Santa Rosa'\n",
            " 'Roc Nu' 'Rias Baixas Albarino Finca Valinas' 'Treixadura'\n",
            " 'Candela Cream Dulce Sweet' 'Nounat' 'Les Brugueres']\n",
            "\n",
            "\n",
            "year\n",
            "['2013' '2018' '2009' '1999' '1996' '1998' '2010' '1995' '2015' '2011'\n",
            " '2016' '1970' '1946' '1962' '2019' '2004' 'N.V.' '1931' '1979' '2005'\n",
            " '2020' '2014' '1985' '1929' '2007' '2012' '2017' '2008' nan '2006' '2000'\n",
            " '2003' '2002' '1991' '1994' '1990' '1989' '1987' '1986' '1981' '2001'\n",
            " '1968' '1964' '1982' '1974' '1983' '1955' '1980' '1972' '1953' '1958'\n",
            " '1942' '1965' '1992' '1973' '1997' '1967' '1975' '1910' '1961' '1954'\n",
            " '1988' '1969' '1951' '1928' '1976' '1949' '2021' '1959' '1922' '1978'\n",
            " '1925']\n",
            "\n",
            "\n",
            "country\n",
            "['Espana']\n",
            "\n",
            "\n",
            "region\n",
            "['Toro' 'Vino de Espana' 'Ribera del Duero' 'Montilla-Moriles' 'Jumilla'\n",
            " 'Jerez-Xeres-Sherry' 'Priorato' 'Rioja' 'Bierzo' 'Castilla y Leon'\n",
            " 'Campo de Borja' 'Cadiz' 'Cava' 'Jerez Palo Cortado' 'Manzanilla'\n",
            " 'Valdeorras' 'Emporda' 'Rioja Alta' 'Alicante' 'Somontano'\n",
            " 'Dominio de Valdepusa' 'Ribeiro' 'Mallorca' 'Yecla' 'Cigales'\n",
            " 'Utiel-Requena' 'Navarra' 'Rioja Alavesa' 'Costers del Segre'\n",
            " 'Sardon de Duero' 'Malaga' 'Cataluna' 'Rueda' 'Jerez Pedro Ximenes (PX)'\n",
            " 'Montsant' 'Conca de Barbera' 'Rias Baixas' 'Jerez Amontillado'\n",
            " 'Tierra del Vino de Zamora' 'Penedes' 'Dehesa del Carrizal' 'Madrid'\n",
            " 'Carinena' 'Condado de Huelva' 'Almansa' 'Jerez Cream' 'Valencia'\n",
            " 'Sierras de Malaga' 'Ribeira Sacra' 'El Terrerazo' 'Jerez Oloroso'\n",
            " 'Castilla' 'Alella' 'Pla i Llevant' 'Pla de Bages' 'Pago Calzadilla'\n",
            " 'Andalucia' 'Monterrei' 'Ribera del Gallego-Cinco Villas' 'Aragon'\n",
            " 'Galicia' 'La Palma' 'Binissalem-Mallorca' 'Calatayud' 'Arinzano'\n",
            " 'Tarragona' 'Extremadura' 'Murcia' 'La Mancha' 'Otazu' 'Valdejalon'\n",
            " 'Mentrida' 'Terra Alta' 'Arribes' 'Gran Canaria' 'Abona']\n",
            "\n",
            "\n",
            "type\n",
            "['Toro Red' 'Tempranillo' 'Ribera Del Duero Red' 'Pedro Ximenez' 'Red'\n",
            " 'Sherry' 'Priorat Red' 'Rioja Red' 'Rioja White' 'Grenache' nan 'Cava'\n",
            " 'Verdejo' 'Syrah' 'Monastrell' 'Mencia' 'Sparkling' 'Montsant Red'\n",
            " 'Albarino' 'Chardonnay' 'Cabernet Sauvignon' 'Sauvignon Blanc']\n",
            "\n",
            "\n"
          ]
        }
      ],
      "source": [
        "# Check object columns for inconsistent data\n",
        "\n",
        "# Create a series of the datatypes\n",
        "d_types = df.dtypes\n",
        "# Create a filter to select only the object datatypes\n",
        "object_d_types = d_types[(d_types == \"object\")]\n",
        "# Display the series of object datatypes\n",
        "object_d_types\n",
        "\n",
        "# display unique values from each column\n",
        "for column in object_d_types.index:\n",
        "  print(column)\n",
        "  print(df[column].unique())\n",
        "  print('\\n')"
      ]
    },
    {
      "cell_type": "code",
      "execution_count": 357,
      "metadata": {
        "colab": {
          "base_uri": "https://localhost:8080/"
        },
        "id": "QCun-KxbLF-W",
        "outputId": "b9ec60c8-d9cf-414b-edf9-a3a234b7aae3"
      },
      "outputs": [
        {
          "output_type": "stream",
          "name": "stdout",
          "text": [
            "rating\n",
            "[4.9 4.8 4.7 4.6 4.5 4.4 4.3 4.2]\n",
            "\n",
            "\n",
            "num_reviews\n",
            "[   58    31  1793  1705  1309  1209  1201   926   643   630   591   454\n",
            "   438   417   398   372   295   250   217   211   174   172   145   139\n",
            "   125   118   103    87    84    79    70    69    68    56    52    50\n",
            "    40    32    28    26 12421  5266  4350  3929  3437  3164  3127  2935\n",
            "  2826  2765  2480  2419  2177  1892  1199  1141   940   935   690   685\n",
            "   675   593   560   543   511   476   442   425   393   347   312   308\n",
            "   303   300   292   291   285   280   268   264   256   254   251   243\n",
            "   240   225   220   214   205   203   196   184   173   171   137   136\n",
            "   134   133   132   131   127   123   117   116   112   110   108   102\n",
            "   100    94    92    89    82    80    74    72    67    65    64    63\n",
            "    60    59    57    53    51    49    47    45    42    41    39    37\n",
            "    35    33    30    29    27  6803  5938  5545  5116  4747  4685  4516\n",
            "  3383  3239  2416  2208  1608  1363  1108  1015   936   840   790   700\n",
            "   693   595   516   410   405   400   388   369   323   313   304   293\n",
            "   286   274   244   242   231   222   218   202   200   197   186   176\n",
            "   169   165   164   160   159   157   153   150   147   146   143   142\n",
            "   135   128   124   122   115   114   113   111   107   105    99    98\n",
            "    97    95    93    91    90    86    85    83    75    66    48    46\n",
            "    44    43    38    36    34    25  7529  7435  7237  5863  5372  5365\n",
            "  4979  4935  4411  3521  3443  3148  3118  2887  2858  2712  2710  2551\n",
            "  2530  2228  2220  2207  2144  1910  1864  1520  1503  1393  1346  1345\n",
            "  1236  1192  1163  1148  1094  1089  1014  1012   990   961   955   854\n",
            "   838   813   729   719   666   642   629   574   550   529   505   503\n",
            "   501   500   499   493   488   477   469   462   420   406   384   365\n",
            "   353   336   322   318   316   301   297   261   249   246   230   229\n",
            "   226   221   213   207   201   194   190   189   188   187   178   170\n",
            "   163   162   161   156   154   144   141   140   126   121   106   104\n",
            "    96    88    81    78    76    73    71    61    55    54  6395  5732\n",
            "  5614  5204  5109  4851  4625  4357  4121  3589  3456  3406  3327  3197\n",
            "  3095  3093  3089  2546  2418  2370  2133  2080  2053  1993  1949  1948\n",
            "  1943  1853  1842  1777  1701  1561  1519  1514  1475  1463  1438  1372\n",
            "  1339  1326  1269  1266  1255  1226  1172  1166  1158  1121  1104  1098\n",
            "  1087  1069  1064  1048  1047  1039  1040  1018   995   966   941   927\n",
            "   925   915   852   827   825   812   809   799   798   787   783   778\n",
            "   746   726   695   683   681   667   664   639   624   618   617   609\n",
            "   581   575   561   542   527   523   514   512   506   498   495   485\n",
            "   481   471   450   443   436   421   414   412   389   376   367   363\n",
            "   360   351   349   343   334   333   328   319   309   306   305   298\n",
            "   296   269   267   262   259   258   252   245   241   239   236   234\n",
            "   233   224   219   215   208   206   204   195   185   180   177   168\n",
            "   166   158   155   152   151   149   148   130   120   119   109   101\n",
            "    77    62 10273  9092  7401  7293  6521  6345  5152  4994  4767  4457\n",
            "  4266  4023  3997  3829  3660  3620  3608  3587  3524  2990  2936  2923\n",
            "  2911  2844  2783  2705  2575  2453  2423  2341  2295  2241  2062  2013\n",
            "  1924  1914  1884  1846  1824  1797  1749  1743  1645  1638  1615  1544\n",
            "  1528  1525  1493  1471  1465  1452  1367  1362  1330  1282  1247  1230\n",
            "  1181  1178  1119  1118  1116  1114  1067  1057  1022  1011   930   929\n",
            "   916   912   901   900   885   878   835   828   818   814   811   760\n",
            "   754   749   740   728   724   723   716   687   682   676   674   665\n",
            "   663   661   658   641   613   605   603   598   592   590   582   577\n",
            "   569   567   559   556   553   535   533   530   522   517   474   473\n",
            "   468   463   461   456   453   452   449   445   431   429   427   424\n",
            "   422   419   418   411   407   404   397   375   374   371   370   368\n",
            "   366   364   358   355   345   344   327   317   315   299   290   287\n",
            "   284   281   279   278   275   272   270   263   260   257   247   237\n",
            "   232   227   228   223   216   210   209   198   193   192   191   175\n",
            "   167   138   129 32624 16505  9098  8318  7825  7294  6567  6532  6256\n",
            "  6163  5802  5178  4610  4127  4091  3825  3788  3725  3648  3545  3453\n",
            "  3354  3225  3224  3101  2901  2820  2788  2685  2676  2478  2375  2364\n",
            "  2271  2234  2135  2074  2050  2022  1981  1931  1921  1768  1688  1686\n",
            "  1665  1627  1611  1573  1355  1343  1341  1337  1319  1308  1301  1267\n",
            "  1164  1159  1155  1125  1095  1093  1086  1078  1070  1058  1043  1030\n",
            "  1016  1008   998   970   969   964   918   897   883   879   876   865\n",
            "   855   842   834   832   806   777   776   769   753   745   733   732\n",
            "   731   721   707   696   692   684   671   668   648   647   645   633\n",
            "   628   627   622   612   611   600   599   587   576   570   558   557\n",
            "   555   540   528   520   519   518   513   490   487   483   484   480\n",
            "   466   459   447   441   439   433   432   423   415   402   395   392\n",
            "   390]\n",
            "\n",
            "\n",
            "price\n",
            "[995.   313.5  324.95 ...  16.76  24.45  31.63]\n",
            "\n",
            "\n",
            "body\n",
            "[ 5.  4.  3. nan  2.]\n",
            "\n",
            "\n",
            "acidity\n",
            "[ 3.  2.  1. nan]\n",
            "\n",
            "\n"
          ]
        }
      ],
      "source": [
        "# Check number columns for inconsistent data\n",
        "\n",
        "# Create a series of the datatypes\n",
        "d_types = df.dtypes\n",
        "# Create a filter to select only the object datatypes\n",
        "num_d_types = d_types[(d_types != \"object\")]\n",
        "# Display the series of object datatypes\n",
        "num_d_types\n",
        "\n",
        "# display unique values from each column\n",
        "for column in num_d_types.index:\n",
        "  print(column)\n",
        "  print(df[column].unique())\n",
        "  print('\\n')"
      ]
    },
    {
      "cell_type": "code",
      "source": [
        "# check year value_counts\n",
        "df['year'].value_counts()"
      ],
      "metadata": {
        "colab": {
          "base_uri": "https://localhost:8080/"
        },
        "id": "iDNH1WD9Alb4",
        "outputId": "71e287a3-8284-4d93-f762-192cf93a8d72"
      },
      "execution_count": 358,
      "outputs": [
        {
          "output_type": "execute_result",
          "data": {
            "text/plain": [
              "2011    1190\n",
              "2016     897\n",
              "2015     860\n",
              "2018     850\n",
              "2017     731\n",
              "        ... \n",
              "1953       1\n",
              "1972       1\n",
              "1974       1\n",
              "1931       1\n",
              "1925       1\n",
              "Name: year, Length: 71, dtype: int64"
            ]
          },
          "metadata": {},
          "execution_count": 358
        }
      ]
    },
    {
      "cell_type": "code",
      "execution_count": 359,
      "metadata": {
        "colab": {
          "base_uri": "https://localhost:8080/"
        },
        "id": "aE51lYVBG9bA",
        "outputId": "9d1ed0f0-b6a7-4720-94e2-38c685933abd"
      },
      "outputs": [
        {
          "output_type": "stream",
          "name": "stdout",
          "text": [
            "There are 5452 duplicate rows.\n"
          ]
        }
      ],
      "source": [
        "## Display the number of duplicate rows in the dataset\n",
        "print(f'There are {df.duplicated().sum()} duplicate rows.')"
      ]
    },
    {
      "cell_type": "markdown",
      "metadata": {
        "id": "fFXR_HGTGob_"
      },
      "source": [
        "## Summary of Cleanup Needed\n",
        "- Remove all duplicate rows\n",
        "- Remove `winery`, `region`, and `wine` columns because of high cardinality in data.  \n",
        "- Address `N.V.` value in Year feature\n",
        "- Remove country because they are all labeled as `Espana'\n"
      ]
    },
    {
      "cell_type": "markdown",
      "metadata": {
        "id": "qR0XFCbSHJp5"
      },
      "source": [
        "# Data Cleanup"
      ]
    },
    {
      "cell_type": "markdown",
      "metadata": {
        "id": "BnKZY1z7bu6b"
      },
      "source": [
        "## Remove duplicate rows"
      ]
    },
    {
      "cell_type": "code",
      "execution_count": 360,
      "metadata": {
        "colab": {
          "base_uri": "https://localhost:8080/"
        },
        "id": "KpH6fmjQHtr9",
        "outputId": "323e1673-d200-4f6c-ec67-7cda6fddad85"
      },
      "outputs": [
        {
          "output_type": "stream",
          "name": "stdout",
          "text": [
            "There are 0 duplicate rows.\n"
          ]
        }
      ],
      "source": [
        "# Remove duplicate rows\n",
        "df = df.drop_duplicates()\n",
        "\n",
        "## Confirm duplicate rows have been dropped\n",
        "print(f'There are {df.duplicated().sum()} duplicate rows.')\n"
      ]
    },
    {
      "cell_type": "markdown",
      "metadata": {
        "id": "xmRhV4mrSi-p"
      },
      "source": [
        "## Clean up inconsistent 'year' values"
      ]
    },
    {
      "cell_type": "code",
      "execution_count": 361,
      "metadata": {
        "id": "Wb1NhflkQKyt"
      },
      "outputs": [],
      "source": [
        "# Remove rows with missing columns\n",
        "df.dropna(subset=['year'], inplace=True)\n",
        "\n",
        "#Remove N.V. rows from year\n",
        "df = df[df.year != 'N.V.']\n",
        "\n",
        "#Convert to INT\n",
        "df['year'] = df['year'].astype(int)"
      ]
    },
    {
      "cell_type": "markdown",
      "metadata": {
        "id": "6qdPV8Xfby6m"
      },
      "source": [
        "## Drop columns"
      ]
    },
    {
      "cell_type": "code",
      "execution_count": 362,
      "metadata": {
        "id": "tkLdGr2MQ1kx"
      },
      "outputs": [],
      "source": [
        "# Remove unneeded columns\n",
        "df.drop(columns=['country','winery', 'wine', 'region'], inplace=True)"
      ]
    },
    {
      "cell_type": "markdown",
      "metadata": {
        "id": "ainRRADMb24q"
      },
      "source": [
        "## Verify changes"
      ]
    },
    {
      "cell_type": "code",
      "execution_count": 363,
      "metadata": {
        "colab": {
          "base_uri": "https://localhost:8080/"
        },
        "id": "1UAUFDN0ReEN",
        "outputId": "a0f3b60f-495c-4a61-e00a-83c60a0f54e7"
      },
      "outputs": [
        {
          "output_type": "stream",
          "name": "stdout",
          "text": [
            "<class 'pandas.core.frame.DataFrame'>\n",
            "Int64Index: 1976 entries, 0 to 6100\n",
            "Data columns (total 7 columns):\n",
            " #   Column       Non-Null Count  Dtype  \n",
            "---  ------       --------------  -----  \n",
            " 0   year         1976 non-null   int64  \n",
            " 1   rating       1976 non-null   float64\n",
            " 2   num_reviews  1976 non-null   int64  \n",
            " 3   price        1976 non-null   float64\n",
            " 4   type         1877 non-null   object \n",
            " 5   body         1714 non-null   float64\n",
            " 6   acidity      1714 non-null   float64\n",
            "dtypes: float64(4), int64(2), object(1)\n",
            "memory usage: 123.5+ KB\n"
          ]
        }
      ],
      "source": [
        "#Verify changes\n",
        "df.info()"
      ]
    },
    {
      "cell_type": "markdown",
      "metadata": {
        "id": "9TzNoPFSd1Re"
      },
      "source": [
        "# Feature Engineering"
      ]
    },
    {
      "cell_type": "markdown",
      "source": [
        "Previous models to predict exact price were not accurate with original dataset. Instead of predicting the exact price, we'll instead predict if the wine is expensive or not. `is_expensive=1` means that the bottle of wine is greater than the average price of the entire data set."
      ],
      "metadata": {
        "id": "DMopA_suHCOM"
      }
    },
    {
      "cell_type": "code",
      "source": [
        "# Encode cars with prices above the mean as 1 and below the mean as 0\n",
        "\n",
        "df['is_expensive'] = df['price'].apply(lambda x: 1 if x > df['price'].mean() else 0)\n",
        "df['is_expensive'].value_counts()"
      ],
      "metadata": {
        "colab": {
          "base_uri": "https://localhost:8080/"
        },
        "id": "HxjupgI78E6T",
        "outputId": "fe248910-8795-45ff-ac70-efd0cdc7abb2"
      },
      "execution_count": 364,
      "outputs": [
        {
          "output_type": "execute_result",
          "data": {
            "text/plain": [
              "0    1570\n",
              "1     406\n",
              "Name: is_expensive, dtype: int64"
            ]
          },
          "metadata": {},
          "execution_count": 364
        }
      ]
    },
    {
      "cell_type": "markdown",
      "metadata": {
        "id": "w05EUEJ3Kx5o"
      },
      "source": [
        "# Preprocessing"
      ]
    },
    {
      "cell_type": "markdown",
      "metadata": {
        "id": "vOiejdsyLHDi"
      },
      "source": [
        "## Split Data"
      ]
    },
    {
      "cell_type": "code",
      "execution_count": 365,
      "metadata": {
        "id": "6qMca6qpLMIF"
      },
      "outputs": [],
      "source": [
        "# split X and y, we are predicting price\n",
        "X = df.drop(columns=['price', 'is_expensive'])\n",
        "y = df['price']\n",
        "\n",
        "# split training and test\n",
        "X_train, X_test, y_train, y_test = train_test_split(X, y, random_state=42)"
      ]
    },
    {
      "cell_type": "markdown",
      "source": [
        "## Bin the Target"
      ],
      "metadata": {
        "id": "UhSKmDCoDkhp"
      }
    },
    {
      "cell_type": "code",
      "source": [
        "df['price'].head()"
      ],
      "metadata": {
        "colab": {
          "base_uri": "https://localhost:8080/"
        },
        "id": "7SbssDP5Dnib",
        "outputId": "71a7b812-d323-4fad-a409-22aba651690a"
      },
      "execution_count": 366,
      "outputs": [
        {
          "output_type": "execute_result",
          "data": {
            "text/plain": [
              "0    995.00\n",
              "1    313.50\n",
              "2    324.95\n",
              "3    692.96\n",
              "4    778.06\n",
              "Name: price, dtype: float64"
            ]
          },
          "metadata": {},
          "execution_count": 366
        }
      ]
    },
    {
      "cell_type": "code",
      "source": [
        "mean_price = y_train.mean()\n",
        "\n",
        "def bin_price(x):\n",
        "    if x >= mean_price:\n",
        "        return 1\n",
        "    else:\n",
        "        return 0\n",
        "\n",
        "y_train = y_train.apply(bin_price)\n",
        "y_test = y_test.apply(bin_price)"
      ],
      "metadata": {
        "id": "SNWclF7oDvOp"
      },
      "execution_count": 367,
      "outputs": []
    },
    {
      "cell_type": "markdown",
      "source": [
        "## Verify counts"
      ],
      "metadata": {
        "id": "UX1EjyrkD1Am"
      }
    },
    {
      "cell_type": "code",
      "source": [
        "y_train.value_counts()"
      ],
      "metadata": {
        "colab": {
          "base_uri": "https://localhost:8080/"
        },
        "id": "8VhG63nyDyYz",
        "outputId": "556c2f9a-3f38-41f3-f51d-8e15c2f05312"
      },
      "execution_count": 368,
      "outputs": [
        {
          "output_type": "execute_result",
          "data": {
            "text/plain": [
              "0    1181\n",
              "1     301\n",
              "Name: price, dtype: int64"
            ]
          },
          "metadata": {},
          "execution_count": 368
        }
      ]
    },
    {
      "cell_type": "code",
      "source": [
        "y_test.value_counts()"
      ],
      "metadata": {
        "colab": {
          "base_uri": "https://localhost:8080/"
        },
        "id": "VUebgpC8D0NR",
        "outputId": "fb3d7d8d-7774-466e-dad7-cf40f889c799"
      },
      "execution_count": 369,
      "outputs": [
        {
          "output_type": "execute_result",
          "data": {
            "text/plain": [
              "0    403\n",
              "1     91\n",
              "Name: price, dtype: int64"
            ]
          },
          "metadata": {},
          "execution_count": 369
        }
      ]
    },
    {
      "cell_type": "markdown",
      "source": [
        "# Build the Base model"
      ],
      "metadata": {
        "id": "RezthrUTHu7B"
      }
    },
    {
      "cell_type": "markdown",
      "metadata": {
        "id": "x1qQZu_eL_fj"
      },
      "source": [
        "### Numeric Pipeline"
      ]
    },
    {
      "cell_type": "code",
      "execution_count": 370,
      "metadata": {
        "colab": {
          "base_uri": "https://localhost:8080/",
          "height": 125
        },
        "id": "MAfNNuDnMDFQ",
        "outputId": "500b6ef5-879e-4a12-f06d-3bd09963eb88"
      },
      "outputs": [
        {
          "output_type": "execute_result",
          "data": {
            "text/plain": [
              "Pipeline(steps=[('simpleimputer', SimpleImputer(strategy='median')),\n",
              "                ('standardscaler', StandardScaler())])"
            ],
            "text/html": [
              "<style>#sk-container-id-34 {color: black;background-color: white;}#sk-container-id-34 pre{padding: 0;}#sk-container-id-34 div.sk-toggleable {background-color: white;}#sk-container-id-34 label.sk-toggleable__label {cursor: pointer;display: block;width: 100%;margin-bottom: 0;padding: 0.3em;box-sizing: border-box;text-align: center;}#sk-container-id-34 label.sk-toggleable__label-arrow:before {content: \"▸\";float: left;margin-right: 0.25em;color: #696969;}#sk-container-id-34 label.sk-toggleable__label-arrow:hover:before {color: black;}#sk-container-id-34 div.sk-estimator:hover label.sk-toggleable__label-arrow:before {color: black;}#sk-container-id-34 div.sk-toggleable__content {max-height: 0;max-width: 0;overflow: hidden;text-align: left;background-color: #f0f8ff;}#sk-container-id-34 div.sk-toggleable__content pre {margin: 0.2em;color: black;border-radius: 0.25em;background-color: #f0f8ff;}#sk-container-id-34 input.sk-toggleable__control:checked~div.sk-toggleable__content {max-height: 200px;max-width: 100%;overflow: auto;}#sk-container-id-34 input.sk-toggleable__control:checked~label.sk-toggleable__label-arrow:before {content: \"▾\";}#sk-container-id-34 div.sk-estimator input.sk-toggleable__control:checked~label.sk-toggleable__label {background-color: #d4ebff;}#sk-container-id-34 div.sk-label input.sk-toggleable__control:checked~label.sk-toggleable__label {background-color: #d4ebff;}#sk-container-id-34 input.sk-hidden--visually {border: 0;clip: rect(1px 1px 1px 1px);clip: rect(1px, 1px, 1px, 1px);height: 1px;margin: -1px;overflow: hidden;padding: 0;position: absolute;width: 1px;}#sk-container-id-34 div.sk-estimator {font-family: monospace;background-color: #f0f8ff;border: 1px dotted black;border-radius: 0.25em;box-sizing: border-box;margin-bottom: 0.5em;}#sk-container-id-34 div.sk-estimator:hover {background-color: #d4ebff;}#sk-container-id-34 div.sk-parallel-item::after {content: \"\";width: 100%;border-bottom: 1px solid gray;flex-grow: 1;}#sk-container-id-34 div.sk-label:hover label.sk-toggleable__label {background-color: #d4ebff;}#sk-container-id-34 div.sk-serial::before {content: \"\";position: absolute;border-left: 1px solid gray;box-sizing: border-box;top: 0;bottom: 0;left: 50%;z-index: 0;}#sk-container-id-34 div.sk-serial {display: flex;flex-direction: column;align-items: center;background-color: white;padding-right: 0.2em;padding-left: 0.2em;position: relative;}#sk-container-id-34 div.sk-item {position: relative;z-index: 1;}#sk-container-id-34 div.sk-parallel {display: flex;align-items: stretch;justify-content: center;background-color: white;position: relative;}#sk-container-id-34 div.sk-item::before, #sk-container-id-34 div.sk-parallel-item::before {content: \"\";position: absolute;border-left: 1px solid gray;box-sizing: border-box;top: 0;bottom: 0;left: 50%;z-index: -1;}#sk-container-id-34 div.sk-parallel-item {display: flex;flex-direction: column;z-index: 1;position: relative;background-color: white;}#sk-container-id-34 div.sk-parallel-item:first-child::after {align-self: flex-end;width: 50%;}#sk-container-id-34 div.sk-parallel-item:last-child::after {align-self: flex-start;width: 50%;}#sk-container-id-34 div.sk-parallel-item:only-child::after {width: 0;}#sk-container-id-34 div.sk-dashed-wrapped {border: 1px dashed gray;margin: 0 0.4em 0.5em 0.4em;box-sizing: border-box;padding-bottom: 0.4em;background-color: white;}#sk-container-id-34 div.sk-label label {font-family: monospace;font-weight: bold;display: inline-block;line-height: 1.2em;}#sk-container-id-34 div.sk-label-container {text-align: center;}#sk-container-id-34 div.sk-container {/* jupyter's `normalize.less` sets `[hidden] { display: none; }` but bootstrap.min.css set `[hidden] { display: none !important; }` so we also need the `!important` here to be able to override the default hidden behavior on the sphinx rendered scikit-learn.org. See: https://github.com/scikit-learn/scikit-learn/issues/21755 */display: inline-block !important;position: relative;}#sk-container-id-34 div.sk-text-repr-fallback {display: none;}</style><div id=\"sk-container-id-34\" class=\"sk-top-container\"><div class=\"sk-text-repr-fallback\"><pre>Pipeline(steps=[(&#x27;simpleimputer&#x27;, SimpleImputer(strategy=&#x27;median&#x27;)),\n",
              "                (&#x27;standardscaler&#x27;, StandardScaler())])</pre><b>In a Jupyter environment, please rerun this cell to show the HTML representation or trust the notebook. <br />On GitHub, the HTML representation is unable to render, please try loading this page with nbviewer.org.</b></div><div class=\"sk-container\" hidden><div class=\"sk-item sk-dashed-wrapped\"><div class=\"sk-label-container\"><div class=\"sk-label sk-toggleable\"><input class=\"sk-toggleable__control sk-hidden--visually\" id=\"sk-estimator-id-203\" type=\"checkbox\" ><label for=\"sk-estimator-id-203\" class=\"sk-toggleable__label sk-toggleable__label-arrow\">Pipeline</label><div class=\"sk-toggleable__content\"><pre>Pipeline(steps=[(&#x27;simpleimputer&#x27;, SimpleImputer(strategy=&#x27;median&#x27;)),\n",
              "                (&#x27;standardscaler&#x27;, StandardScaler())])</pre></div></div></div><div class=\"sk-serial\"><div class=\"sk-item\"><div class=\"sk-estimator sk-toggleable\"><input class=\"sk-toggleable__control sk-hidden--visually\" id=\"sk-estimator-id-204\" type=\"checkbox\" ><label for=\"sk-estimator-id-204\" class=\"sk-toggleable__label sk-toggleable__label-arrow\">SimpleImputer</label><div class=\"sk-toggleable__content\"><pre>SimpleImputer(strategy=&#x27;median&#x27;)</pre></div></div></div><div class=\"sk-item\"><div class=\"sk-estimator sk-toggleable\"><input class=\"sk-toggleable__control sk-hidden--visually\" id=\"sk-estimator-id-205\" type=\"checkbox\" ><label for=\"sk-estimator-id-205\" class=\"sk-toggleable__label sk-toggleable__label-arrow\">StandardScaler</label><div class=\"sk-toggleable__content\"><pre>StandardScaler()</pre></div></div></div></div></div></div></div>"
            ]
          },
          "metadata": {},
          "execution_count": 370
        }
      ],
      "source": [
        "# PREPROCESSING PIPELINE FOR NUMERIC DATA\n",
        "\n",
        "# Save list of number column names\n",
        "num_cols = X_train.select_dtypes('number').columns\n",
        "\n",
        "# Transformers\n",
        "scaler = StandardScaler()\n",
        "med_imputer = SimpleImputer(strategy = 'median')\n",
        "\n",
        "# Pipeline\n",
        "num_pipeline = make_pipeline(med_imputer, scaler)\n",
        "num_pipeline"
      ]
    },
    {
      "cell_type": "markdown",
      "metadata": {
        "id": "C0Fchw_yJWTs"
      },
      "source": [
        "### Nominal Pipeline"
      ]
    },
    {
      "cell_type": "code",
      "execution_count": 371,
      "metadata": {
        "colab": {
          "base_uri": "https://localhost:8080/",
          "height": 125
        },
        "id": "-bZP23Z1MO_U",
        "outputId": "97de4c7b-5750-48bf-9f56-661955e1479a"
      },
      "outputs": [
        {
          "output_type": "execute_result",
          "data": {
            "text/plain": [
              "Pipeline(steps=[('simpleimputer',\n",
              "                 SimpleImputer(fill_value='missing', strategy='constant')),\n",
              "                ('onehotencoder',\n",
              "                 OneHotEncoder(handle_unknown='ignore', sparse_output=False))])"
            ],
            "text/html": [
              "<style>#sk-container-id-35 {color: black;background-color: white;}#sk-container-id-35 pre{padding: 0;}#sk-container-id-35 div.sk-toggleable {background-color: white;}#sk-container-id-35 label.sk-toggleable__label {cursor: pointer;display: block;width: 100%;margin-bottom: 0;padding: 0.3em;box-sizing: border-box;text-align: center;}#sk-container-id-35 label.sk-toggleable__label-arrow:before {content: \"▸\";float: left;margin-right: 0.25em;color: #696969;}#sk-container-id-35 label.sk-toggleable__label-arrow:hover:before {color: black;}#sk-container-id-35 div.sk-estimator:hover label.sk-toggleable__label-arrow:before {color: black;}#sk-container-id-35 div.sk-toggleable__content {max-height: 0;max-width: 0;overflow: hidden;text-align: left;background-color: #f0f8ff;}#sk-container-id-35 div.sk-toggleable__content pre {margin: 0.2em;color: black;border-radius: 0.25em;background-color: #f0f8ff;}#sk-container-id-35 input.sk-toggleable__control:checked~div.sk-toggleable__content {max-height: 200px;max-width: 100%;overflow: auto;}#sk-container-id-35 input.sk-toggleable__control:checked~label.sk-toggleable__label-arrow:before {content: \"▾\";}#sk-container-id-35 div.sk-estimator input.sk-toggleable__control:checked~label.sk-toggleable__label {background-color: #d4ebff;}#sk-container-id-35 div.sk-label input.sk-toggleable__control:checked~label.sk-toggleable__label {background-color: #d4ebff;}#sk-container-id-35 input.sk-hidden--visually {border: 0;clip: rect(1px 1px 1px 1px);clip: rect(1px, 1px, 1px, 1px);height: 1px;margin: -1px;overflow: hidden;padding: 0;position: absolute;width: 1px;}#sk-container-id-35 div.sk-estimator {font-family: monospace;background-color: #f0f8ff;border: 1px dotted black;border-radius: 0.25em;box-sizing: border-box;margin-bottom: 0.5em;}#sk-container-id-35 div.sk-estimator:hover {background-color: #d4ebff;}#sk-container-id-35 div.sk-parallel-item::after {content: \"\";width: 100%;border-bottom: 1px solid gray;flex-grow: 1;}#sk-container-id-35 div.sk-label:hover label.sk-toggleable__label {background-color: #d4ebff;}#sk-container-id-35 div.sk-serial::before {content: \"\";position: absolute;border-left: 1px solid gray;box-sizing: border-box;top: 0;bottom: 0;left: 50%;z-index: 0;}#sk-container-id-35 div.sk-serial {display: flex;flex-direction: column;align-items: center;background-color: white;padding-right: 0.2em;padding-left: 0.2em;position: relative;}#sk-container-id-35 div.sk-item {position: relative;z-index: 1;}#sk-container-id-35 div.sk-parallel {display: flex;align-items: stretch;justify-content: center;background-color: white;position: relative;}#sk-container-id-35 div.sk-item::before, #sk-container-id-35 div.sk-parallel-item::before {content: \"\";position: absolute;border-left: 1px solid gray;box-sizing: border-box;top: 0;bottom: 0;left: 50%;z-index: -1;}#sk-container-id-35 div.sk-parallel-item {display: flex;flex-direction: column;z-index: 1;position: relative;background-color: white;}#sk-container-id-35 div.sk-parallel-item:first-child::after {align-self: flex-end;width: 50%;}#sk-container-id-35 div.sk-parallel-item:last-child::after {align-self: flex-start;width: 50%;}#sk-container-id-35 div.sk-parallel-item:only-child::after {width: 0;}#sk-container-id-35 div.sk-dashed-wrapped {border: 1px dashed gray;margin: 0 0.4em 0.5em 0.4em;box-sizing: border-box;padding-bottom: 0.4em;background-color: white;}#sk-container-id-35 div.sk-label label {font-family: monospace;font-weight: bold;display: inline-block;line-height: 1.2em;}#sk-container-id-35 div.sk-label-container {text-align: center;}#sk-container-id-35 div.sk-container {/* jupyter's `normalize.less` sets `[hidden] { display: none; }` but bootstrap.min.css set `[hidden] { display: none !important; }` so we also need the `!important` here to be able to override the default hidden behavior on the sphinx rendered scikit-learn.org. See: https://github.com/scikit-learn/scikit-learn/issues/21755 */display: inline-block !important;position: relative;}#sk-container-id-35 div.sk-text-repr-fallback {display: none;}</style><div id=\"sk-container-id-35\" class=\"sk-top-container\"><div class=\"sk-text-repr-fallback\"><pre>Pipeline(steps=[(&#x27;simpleimputer&#x27;,\n",
              "                 SimpleImputer(fill_value=&#x27;missing&#x27;, strategy=&#x27;constant&#x27;)),\n",
              "                (&#x27;onehotencoder&#x27;,\n",
              "                 OneHotEncoder(handle_unknown=&#x27;ignore&#x27;, sparse_output=False))])</pre><b>In a Jupyter environment, please rerun this cell to show the HTML representation or trust the notebook. <br />On GitHub, the HTML representation is unable to render, please try loading this page with nbviewer.org.</b></div><div class=\"sk-container\" hidden><div class=\"sk-item sk-dashed-wrapped\"><div class=\"sk-label-container\"><div class=\"sk-label sk-toggleable\"><input class=\"sk-toggleable__control sk-hidden--visually\" id=\"sk-estimator-id-206\" type=\"checkbox\" ><label for=\"sk-estimator-id-206\" class=\"sk-toggleable__label sk-toggleable__label-arrow\">Pipeline</label><div class=\"sk-toggleable__content\"><pre>Pipeline(steps=[(&#x27;simpleimputer&#x27;,\n",
              "                 SimpleImputer(fill_value=&#x27;missing&#x27;, strategy=&#x27;constant&#x27;)),\n",
              "                (&#x27;onehotencoder&#x27;,\n",
              "                 OneHotEncoder(handle_unknown=&#x27;ignore&#x27;, sparse_output=False))])</pre></div></div></div><div class=\"sk-serial\"><div class=\"sk-item\"><div class=\"sk-estimator sk-toggleable\"><input class=\"sk-toggleable__control sk-hidden--visually\" id=\"sk-estimator-id-207\" type=\"checkbox\" ><label for=\"sk-estimator-id-207\" class=\"sk-toggleable__label sk-toggleable__label-arrow\">SimpleImputer</label><div class=\"sk-toggleable__content\"><pre>SimpleImputer(fill_value=&#x27;missing&#x27;, strategy=&#x27;constant&#x27;)</pre></div></div></div><div class=\"sk-item\"><div class=\"sk-estimator sk-toggleable\"><input class=\"sk-toggleable__control sk-hidden--visually\" id=\"sk-estimator-id-208\" type=\"checkbox\" ><label for=\"sk-estimator-id-208\" class=\"sk-toggleable__label sk-toggleable__label-arrow\">OneHotEncoder</label><div class=\"sk-toggleable__content\"><pre>OneHotEncoder(handle_unknown=&#x27;ignore&#x27;, sparse_output=False)</pre></div></div></div></div></div></div></div>"
            ]
          },
          "metadata": {},
          "execution_count": 371
        }
      ],
      "source": [
        "# PREPROCESSING PIPELINE FOR ONE-HOT-ENCODED DATA\n",
        "\n",
        "# Save list of nominal column names\n",
        "nominal_cols = X_train.select_dtypes('object').columns\n",
        "\n",
        "# Transformers\n",
        "\n",
        "missing_imputer = SimpleImputer(strategy='constant', fill_value='missing')\n",
        "ohe = OneHotEncoder(sparse_output=False, handle_unknown='ignore')\n",
        "\n",
        "# Pipeline\n",
        "nom_pipeline = make_pipeline(missing_imputer, ohe)\n",
        "nom_pipeline"
      ]
    },
    {
      "cell_type": "code",
      "execution_count": 372,
      "metadata": {
        "id": "zGxPTUJLMZaX"
      },
      "outputs": [],
      "source": [
        "# Nominal Tuple\n",
        "ohe_tuple = ('categorical',nom_pipeline, nominal_cols)"
      ]
    },
    {
      "cell_type": "markdown",
      "metadata": {
        "id": "T0I4ygu8Mi3u"
      },
      "source": [
        "### Create Column Transformer"
      ]
    },
    {
      "cell_type": "code",
      "execution_count": 373,
      "metadata": {
        "colab": {
          "base_uri": "https://localhost:8080/",
          "height": 151
        },
        "id": "XhPSafWyMmlz",
        "outputId": "c0b37d1d-0edd-4852-86eb-45a38f48f981"
      },
      "outputs": [
        {
          "output_type": "execute_result",
          "data": {
            "text/plain": [
              "ColumnTransformer(transformers=[('number',\n",
              "                                 Pipeline(steps=[('simpleimputer',\n",
              "                                                  SimpleImputer(strategy='median')),\n",
              "                                                 ('standardscaler',\n",
              "                                                  StandardScaler())]),\n",
              "                                 Index(['year', 'rating', 'num_reviews', 'body', 'acidity'], dtype='object')),\n",
              "                                ('categorical',\n",
              "                                 Pipeline(steps=[('simpleimputer',\n",
              "                                                  SimpleImputer(fill_value='missing',\n",
              "                                                                strategy='constant')),\n",
              "                                                 ('onehotencoder',\n",
              "                                                  OneHotEncoder(handle_unknown='ignore',\n",
              "                                                                sparse_output=False))]),\n",
              "                                 Index(['type'], dtype='object'))],\n",
              "                  verbose_feature_names_out=False)"
            ],
            "text/html": [
              "<style>#sk-container-id-36 {color: black;background-color: white;}#sk-container-id-36 pre{padding: 0;}#sk-container-id-36 div.sk-toggleable {background-color: white;}#sk-container-id-36 label.sk-toggleable__label {cursor: pointer;display: block;width: 100%;margin-bottom: 0;padding: 0.3em;box-sizing: border-box;text-align: center;}#sk-container-id-36 label.sk-toggleable__label-arrow:before {content: \"▸\";float: left;margin-right: 0.25em;color: #696969;}#sk-container-id-36 label.sk-toggleable__label-arrow:hover:before {color: black;}#sk-container-id-36 div.sk-estimator:hover label.sk-toggleable__label-arrow:before {color: black;}#sk-container-id-36 div.sk-toggleable__content {max-height: 0;max-width: 0;overflow: hidden;text-align: left;background-color: #f0f8ff;}#sk-container-id-36 div.sk-toggleable__content pre {margin: 0.2em;color: black;border-radius: 0.25em;background-color: #f0f8ff;}#sk-container-id-36 input.sk-toggleable__control:checked~div.sk-toggleable__content {max-height: 200px;max-width: 100%;overflow: auto;}#sk-container-id-36 input.sk-toggleable__control:checked~label.sk-toggleable__label-arrow:before {content: \"▾\";}#sk-container-id-36 div.sk-estimator input.sk-toggleable__control:checked~label.sk-toggleable__label {background-color: #d4ebff;}#sk-container-id-36 div.sk-label input.sk-toggleable__control:checked~label.sk-toggleable__label {background-color: #d4ebff;}#sk-container-id-36 input.sk-hidden--visually {border: 0;clip: rect(1px 1px 1px 1px);clip: rect(1px, 1px, 1px, 1px);height: 1px;margin: -1px;overflow: hidden;padding: 0;position: absolute;width: 1px;}#sk-container-id-36 div.sk-estimator {font-family: monospace;background-color: #f0f8ff;border: 1px dotted black;border-radius: 0.25em;box-sizing: border-box;margin-bottom: 0.5em;}#sk-container-id-36 div.sk-estimator:hover {background-color: #d4ebff;}#sk-container-id-36 div.sk-parallel-item::after {content: \"\";width: 100%;border-bottom: 1px solid gray;flex-grow: 1;}#sk-container-id-36 div.sk-label:hover label.sk-toggleable__label {background-color: #d4ebff;}#sk-container-id-36 div.sk-serial::before {content: \"\";position: absolute;border-left: 1px solid gray;box-sizing: border-box;top: 0;bottom: 0;left: 50%;z-index: 0;}#sk-container-id-36 div.sk-serial {display: flex;flex-direction: column;align-items: center;background-color: white;padding-right: 0.2em;padding-left: 0.2em;position: relative;}#sk-container-id-36 div.sk-item {position: relative;z-index: 1;}#sk-container-id-36 div.sk-parallel {display: flex;align-items: stretch;justify-content: center;background-color: white;position: relative;}#sk-container-id-36 div.sk-item::before, #sk-container-id-36 div.sk-parallel-item::before {content: \"\";position: absolute;border-left: 1px solid gray;box-sizing: border-box;top: 0;bottom: 0;left: 50%;z-index: -1;}#sk-container-id-36 div.sk-parallel-item {display: flex;flex-direction: column;z-index: 1;position: relative;background-color: white;}#sk-container-id-36 div.sk-parallel-item:first-child::after {align-self: flex-end;width: 50%;}#sk-container-id-36 div.sk-parallel-item:last-child::after {align-self: flex-start;width: 50%;}#sk-container-id-36 div.sk-parallel-item:only-child::after {width: 0;}#sk-container-id-36 div.sk-dashed-wrapped {border: 1px dashed gray;margin: 0 0.4em 0.5em 0.4em;box-sizing: border-box;padding-bottom: 0.4em;background-color: white;}#sk-container-id-36 div.sk-label label {font-family: monospace;font-weight: bold;display: inline-block;line-height: 1.2em;}#sk-container-id-36 div.sk-label-container {text-align: center;}#sk-container-id-36 div.sk-container {/* jupyter's `normalize.less` sets `[hidden] { display: none; }` but bootstrap.min.css set `[hidden] { display: none !important; }` so we also need the `!important` here to be able to override the default hidden behavior on the sphinx rendered scikit-learn.org. See: https://github.com/scikit-learn/scikit-learn/issues/21755 */display: inline-block !important;position: relative;}#sk-container-id-36 div.sk-text-repr-fallback {display: none;}</style><div id=\"sk-container-id-36\" class=\"sk-top-container\"><div class=\"sk-text-repr-fallback\"><pre>ColumnTransformer(transformers=[(&#x27;number&#x27;,\n",
              "                                 Pipeline(steps=[(&#x27;simpleimputer&#x27;,\n",
              "                                                  SimpleImputer(strategy=&#x27;median&#x27;)),\n",
              "                                                 (&#x27;standardscaler&#x27;,\n",
              "                                                  StandardScaler())]),\n",
              "                                 Index([&#x27;year&#x27;, &#x27;rating&#x27;, &#x27;num_reviews&#x27;, &#x27;body&#x27;, &#x27;acidity&#x27;], dtype=&#x27;object&#x27;)),\n",
              "                                (&#x27;categorical&#x27;,\n",
              "                                 Pipeline(steps=[(&#x27;simpleimputer&#x27;,\n",
              "                                                  SimpleImputer(fill_value=&#x27;missing&#x27;,\n",
              "                                                                strategy=&#x27;constant&#x27;)),\n",
              "                                                 (&#x27;onehotencoder&#x27;,\n",
              "                                                  OneHotEncoder(handle_unknown=&#x27;ignore&#x27;,\n",
              "                                                                sparse_output=False))]),\n",
              "                                 Index([&#x27;type&#x27;], dtype=&#x27;object&#x27;))],\n",
              "                  verbose_feature_names_out=False)</pre><b>In a Jupyter environment, please rerun this cell to show the HTML representation or trust the notebook. <br />On GitHub, the HTML representation is unable to render, please try loading this page with nbviewer.org.</b></div><div class=\"sk-container\" hidden><div class=\"sk-item sk-dashed-wrapped\"><div class=\"sk-label-container\"><div class=\"sk-label sk-toggleable\"><input class=\"sk-toggleable__control sk-hidden--visually\" id=\"sk-estimator-id-209\" type=\"checkbox\" ><label for=\"sk-estimator-id-209\" class=\"sk-toggleable__label sk-toggleable__label-arrow\">ColumnTransformer</label><div class=\"sk-toggleable__content\"><pre>ColumnTransformer(transformers=[(&#x27;number&#x27;,\n",
              "                                 Pipeline(steps=[(&#x27;simpleimputer&#x27;,\n",
              "                                                  SimpleImputer(strategy=&#x27;median&#x27;)),\n",
              "                                                 (&#x27;standardscaler&#x27;,\n",
              "                                                  StandardScaler())]),\n",
              "                                 Index([&#x27;year&#x27;, &#x27;rating&#x27;, &#x27;num_reviews&#x27;, &#x27;body&#x27;, &#x27;acidity&#x27;], dtype=&#x27;object&#x27;)),\n",
              "                                (&#x27;categorical&#x27;,\n",
              "                                 Pipeline(steps=[(&#x27;simpleimputer&#x27;,\n",
              "                                                  SimpleImputer(fill_value=&#x27;missing&#x27;,\n",
              "                                                                strategy=&#x27;constant&#x27;)),\n",
              "                                                 (&#x27;onehotencoder&#x27;,\n",
              "                                                  OneHotEncoder(handle_unknown=&#x27;ignore&#x27;,\n",
              "                                                                sparse_output=False))]),\n",
              "                                 Index([&#x27;type&#x27;], dtype=&#x27;object&#x27;))],\n",
              "                  verbose_feature_names_out=False)</pre></div></div></div><div class=\"sk-parallel\"><div class=\"sk-parallel-item\"><div class=\"sk-item\"><div class=\"sk-label-container\"><div class=\"sk-label sk-toggleable\"><input class=\"sk-toggleable__control sk-hidden--visually\" id=\"sk-estimator-id-210\" type=\"checkbox\" ><label for=\"sk-estimator-id-210\" class=\"sk-toggleable__label sk-toggleable__label-arrow\">number</label><div class=\"sk-toggleable__content\"><pre>Index([&#x27;year&#x27;, &#x27;rating&#x27;, &#x27;num_reviews&#x27;, &#x27;body&#x27;, &#x27;acidity&#x27;], dtype=&#x27;object&#x27;)</pre></div></div></div><div class=\"sk-serial\"><div class=\"sk-item\"><div class=\"sk-serial\"><div class=\"sk-item\"><div class=\"sk-estimator sk-toggleable\"><input class=\"sk-toggleable__control sk-hidden--visually\" id=\"sk-estimator-id-211\" type=\"checkbox\" ><label for=\"sk-estimator-id-211\" class=\"sk-toggleable__label sk-toggleable__label-arrow\">SimpleImputer</label><div class=\"sk-toggleable__content\"><pre>SimpleImputer(strategy=&#x27;median&#x27;)</pre></div></div></div><div class=\"sk-item\"><div class=\"sk-estimator sk-toggleable\"><input class=\"sk-toggleable__control sk-hidden--visually\" id=\"sk-estimator-id-212\" type=\"checkbox\" ><label for=\"sk-estimator-id-212\" class=\"sk-toggleable__label sk-toggleable__label-arrow\">StandardScaler</label><div class=\"sk-toggleable__content\"><pre>StandardScaler()</pre></div></div></div></div></div></div></div></div><div class=\"sk-parallel-item\"><div class=\"sk-item\"><div class=\"sk-label-container\"><div class=\"sk-label sk-toggleable\"><input class=\"sk-toggleable__control sk-hidden--visually\" id=\"sk-estimator-id-213\" type=\"checkbox\" ><label for=\"sk-estimator-id-213\" class=\"sk-toggleable__label sk-toggleable__label-arrow\">categorical</label><div class=\"sk-toggleable__content\"><pre>Index([&#x27;type&#x27;], dtype=&#x27;object&#x27;)</pre></div></div></div><div class=\"sk-serial\"><div class=\"sk-item\"><div class=\"sk-serial\"><div class=\"sk-item\"><div class=\"sk-estimator sk-toggleable\"><input class=\"sk-toggleable__control sk-hidden--visually\" id=\"sk-estimator-id-214\" type=\"checkbox\" ><label for=\"sk-estimator-id-214\" class=\"sk-toggleable__label sk-toggleable__label-arrow\">SimpleImputer</label><div class=\"sk-toggleable__content\"><pre>SimpleImputer(fill_value=&#x27;missing&#x27;, strategy=&#x27;constant&#x27;)</pre></div></div></div><div class=\"sk-item\"><div class=\"sk-estimator sk-toggleable\"><input class=\"sk-toggleable__control sk-hidden--visually\" id=\"sk-estimator-id-215\" type=\"checkbox\" ><label for=\"sk-estimator-id-215\" class=\"sk-toggleable__label sk-toggleable__label-arrow\">OneHotEncoder</label><div class=\"sk-toggleable__content\"><pre>OneHotEncoder(handle_unknown=&#x27;ignore&#x27;, sparse_output=False)</pre></div></div></div></div></div></div></div></div></div></div></div></div>"
            ]
          },
          "metadata": {},
          "execution_count": 373
        }
      ],
      "source": [
        "# Instantiate the make column transformer\n",
        "col_transformer = ColumnTransformer([numeric_tuple,\n",
        "                                       ohe_tuple],\n",
        "                                       remainder='drop', verbose_feature_names_out=False)\n",
        "col_transformer"
      ]
    },
    {
      "cell_type": "code",
      "execution_count": 374,
      "metadata": {
        "id": "cCNR3ucZMbok"
      },
      "outputs": [],
      "source": [
        "# Numeric Tuple\n",
        "numeric_tuple = ('number',num_pipeline, num_cols)"
      ]
    },
    {
      "cell_type": "code",
      "source": [
        "# Instantiate Bagged Tree Regressor\n",
        "lreg = LogisticRegression(max_iter=1000)\n",
        "\n",
        "# Model Pipeline\n",
        "lreg_pipe = make_pipeline(col_transformer, lreg)\n",
        "\n",
        "# Fit the model pipeline on the training data only\n",
        "lreg_pipe.fit(X_train, y_train)"
      ],
      "metadata": {
        "colab": {
          "base_uri": "https://localhost:8080/",
          "height": 224
        },
        "id": "Er8FWeySJrS0",
        "outputId": "1dbfc3e7-37f6-4d39-a5a7-b244b383e82d"
      },
      "execution_count": 375,
      "outputs": [
        {
          "output_type": "execute_result",
          "data": {
            "text/plain": [
              "Pipeline(steps=[('columntransformer',\n",
              "                 ColumnTransformer(transformers=[('number',\n",
              "                                                  Pipeline(steps=[('simpleimputer',\n",
              "                                                                   SimpleImputer(strategy='median')),\n",
              "                                                                  ('standardscaler',\n",
              "                                                                   StandardScaler())]),\n",
              "                                                  Index(['year', 'rating', 'num_reviews', 'body', 'acidity'], dtype='object')),\n",
              "                                                 ('categorical',\n",
              "                                                  Pipeline(steps=[('simpleimputer',\n",
              "                                                                   SimpleImputer(fill_value='missing',\n",
              "                                                                                 strategy='constant')),\n",
              "                                                                  ('onehotencoder',\n",
              "                                                                   OneHotEncoder(handle_unknown='ignore',\n",
              "                                                                                 sparse_output=False))]),\n",
              "                                                  Index(['type'], dtype='object'))],\n",
              "                                   verbose_feature_names_out=False)),\n",
              "                ('logisticregression', LogisticRegression(max_iter=1000))])"
            ],
            "text/html": [
              "<style>#sk-container-id-37 {color: black;background-color: white;}#sk-container-id-37 pre{padding: 0;}#sk-container-id-37 div.sk-toggleable {background-color: white;}#sk-container-id-37 label.sk-toggleable__label {cursor: pointer;display: block;width: 100%;margin-bottom: 0;padding: 0.3em;box-sizing: border-box;text-align: center;}#sk-container-id-37 label.sk-toggleable__label-arrow:before {content: \"▸\";float: left;margin-right: 0.25em;color: #696969;}#sk-container-id-37 label.sk-toggleable__label-arrow:hover:before {color: black;}#sk-container-id-37 div.sk-estimator:hover label.sk-toggleable__label-arrow:before {color: black;}#sk-container-id-37 div.sk-toggleable__content {max-height: 0;max-width: 0;overflow: hidden;text-align: left;background-color: #f0f8ff;}#sk-container-id-37 div.sk-toggleable__content pre {margin: 0.2em;color: black;border-radius: 0.25em;background-color: #f0f8ff;}#sk-container-id-37 input.sk-toggleable__control:checked~div.sk-toggleable__content {max-height: 200px;max-width: 100%;overflow: auto;}#sk-container-id-37 input.sk-toggleable__control:checked~label.sk-toggleable__label-arrow:before {content: \"▾\";}#sk-container-id-37 div.sk-estimator input.sk-toggleable__control:checked~label.sk-toggleable__label {background-color: #d4ebff;}#sk-container-id-37 div.sk-label input.sk-toggleable__control:checked~label.sk-toggleable__label {background-color: #d4ebff;}#sk-container-id-37 input.sk-hidden--visually {border: 0;clip: rect(1px 1px 1px 1px);clip: rect(1px, 1px, 1px, 1px);height: 1px;margin: -1px;overflow: hidden;padding: 0;position: absolute;width: 1px;}#sk-container-id-37 div.sk-estimator {font-family: monospace;background-color: #f0f8ff;border: 1px dotted black;border-radius: 0.25em;box-sizing: border-box;margin-bottom: 0.5em;}#sk-container-id-37 div.sk-estimator:hover {background-color: #d4ebff;}#sk-container-id-37 div.sk-parallel-item::after {content: \"\";width: 100%;border-bottom: 1px solid gray;flex-grow: 1;}#sk-container-id-37 div.sk-label:hover label.sk-toggleable__label {background-color: #d4ebff;}#sk-container-id-37 div.sk-serial::before {content: \"\";position: absolute;border-left: 1px solid gray;box-sizing: border-box;top: 0;bottom: 0;left: 50%;z-index: 0;}#sk-container-id-37 div.sk-serial {display: flex;flex-direction: column;align-items: center;background-color: white;padding-right: 0.2em;padding-left: 0.2em;position: relative;}#sk-container-id-37 div.sk-item {position: relative;z-index: 1;}#sk-container-id-37 div.sk-parallel {display: flex;align-items: stretch;justify-content: center;background-color: white;position: relative;}#sk-container-id-37 div.sk-item::before, #sk-container-id-37 div.sk-parallel-item::before {content: \"\";position: absolute;border-left: 1px solid gray;box-sizing: border-box;top: 0;bottom: 0;left: 50%;z-index: -1;}#sk-container-id-37 div.sk-parallel-item {display: flex;flex-direction: column;z-index: 1;position: relative;background-color: white;}#sk-container-id-37 div.sk-parallel-item:first-child::after {align-self: flex-end;width: 50%;}#sk-container-id-37 div.sk-parallel-item:last-child::after {align-self: flex-start;width: 50%;}#sk-container-id-37 div.sk-parallel-item:only-child::after {width: 0;}#sk-container-id-37 div.sk-dashed-wrapped {border: 1px dashed gray;margin: 0 0.4em 0.5em 0.4em;box-sizing: border-box;padding-bottom: 0.4em;background-color: white;}#sk-container-id-37 div.sk-label label {font-family: monospace;font-weight: bold;display: inline-block;line-height: 1.2em;}#sk-container-id-37 div.sk-label-container {text-align: center;}#sk-container-id-37 div.sk-container {/* jupyter's `normalize.less` sets `[hidden] { display: none; }` but bootstrap.min.css set `[hidden] { display: none !important; }` so we also need the `!important` here to be able to override the default hidden behavior on the sphinx rendered scikit-learn.org. See: https://github.com/scikit-learn/scikit-learn/issues/21755 */display: inline-block !important;position: relative;}#sk-container-id-37 div.sk-text-repr-fallback {display: none;}</style><div id=\"sk-container-id-37\" class=\"sk-top-container\"><div class=\"sk-text-repr-fallback\"><pre>Pipeline(steps=[(&#x27;columntransformer&#x27;,\n",
              "                 ColumnTransformer(transformers=[(&#x27;number&#x27;,\n",
              "                                                  Pipeline(steps=[(&#x27;simpleimputer&#x27;,\n",
              "                                                                   SimpleImputer(strategy=&#x27;median&#x27;)),\n",
              "                                                                  (&#x27;standardscaler&#x27;,\n",
              "                                                                   StandardScaler())]),\n",
              "                                                  Index([&#x27;year&#x27;, &#x27;rating&#x27;, &#x27;num_reviews&#x27;, &#x27;body&#x27;, &#x27;acidity&#x27;], dtype=&#x27;object&#x27;)),\n",
              "                                                 (&#x27;categorical&#x27;,\n",
              "                                                  Pipeline(steps=[(&#x27;simpleimputer&#x27;,\n",
              "                                                                   SimpleImputer(fill_value=&#x27;missing&#x27;,\n",
              "                                                                                 strategy=&#x27;constant&#x27;)),\n",
              "                                                                  (&#x27;onehotencoder&#x27;,\n",
              "                                                                   OneHotEncoder(handle_unknown=&#x27;ignore&#x27;,\n",
              "                                                                                 sparse_output=False))]),\n",
              "                                                  Index([&#x27;type&#x27;], dtype=&#x27;object&#x27;))],\n",
              "                                   verbose_feature_names_out=False)),\n",
              "                (&#x27;logisticregression&#x27;, LogisticRegression(max_iter=1000))])</pre><b>In a Jupyter environment, please rerun this cell to show the HTML representation or trust the notebook. <br />On GitHub, the HTML representation is unable to render, please try loading this page with nbviewer.org.</b></div><div class=\"sk-container\" hidden><div class=\"sk-item sk-dashed-wrapped\"><div class=\"sk-label-container\"><div class=\"sk-label sk-toggleable\"><input class=\"sk-toggleable__control sk-hidden--visually\" id=\"sk-estimator-id-216\" type=\"checkbox\" ><label for=\"sk-estimator-id-216\" class=\"sk-toggleable__label sk-toggleable__label-arrow\">Pipeline</label><div class=\"sk-toggleable__content\"><pre>Pipeline(steps=[(&#x27;columntransformer&#x27;,\n",
              "                 ColumnTransformer(transformers=[(&#x27;number&#x27;,\n",
              "                                                  Pipeline(steps=[(&#x27;simpleimputer&#x27;,\n",
              "                                                                   SimpleImputer(strategy=&#x27;median&#x27;)),\n",
              "                                                                  (&#x27;standardscaler&#x27;,\n",
              "                                                                   StandardScaler())]),\n",
              "                                                  Index([&#x27;year&#x27;, &#x27;rating&#x27;, &#x27;num_reviews&#x27;, &#x27;body&#x27;, &#x27;acidity&#x27;], dtype=&#x27;object&#x27;)),\n",
              "                                                 (&#x27;categorical&#x27;,\n",
              "                                                  Pipeline(steps=[(&#x27;simpleimputer&#x27;,\n",
              "                                                                   SimpleImputer(fill_value=&#x27;missing&#x27;,\n",
              "                                                                                 strategy=&#x27;constant&#x27;)),\n",
              "                                                                  (&#x27;onehotencoder&#x27;,\n",
              "                                                                   OneHotEncoder(handle_unknown=&#x27;ignore&#x27;,\n",
              "                                                                                 sparse_output=False))]),\n",
              "                                                  Index([&#x27;type&#x27;], dtype=&#x27;object&#x27;))],\n",
              "                                   verbose_feature_names_out=False)),\n",
              "                (&#x27;logisticregression&#x27;, LogisticRegression(max_iter=1000))])</pre></div></div></div><div class=\"sk-serial\"><div class=\"sk-item sk-dashed-wrapped\"><div class=\"sk-label-container\"><div class=\"sk-label sk-toggleable\"><input class=\"sk-toggleable__control sk-hidden--visually\" id=\"sk-estimator-id-217\" type=\"checkbox\" ><label for=\"sk-estimator-id-217\" class=\"sk-toggleable__label sk-toggleable__label-arrow\">columntransformer: ColumnTransformer</label><div class=\"sk-toggleable__content\"><pre>ColumnTransformer(transformers=[(&#x27;number&#x27;,\n",
              "                                 Pipeline(steps=[(&#x27;simpleimputer&#x27;,\n",
              "                                                  SimpleImputer(strategy=&#x27;median&#x27;)),\n",
              "                                                 (&#x27;standardscaler&#x27;,\n",
              "                                                  StandardScaler())]),\n",
              "                                 Index([&#x27;year&#x27;, &#x27;rating&#x27;, &#x27;num_reviews&#x27;, &#x27;body&#x27;, &#x27;acidity&#x27;], dtype=&#x27;object&#x27;)),\n",
              "                                (&#x27;categorical&#x27;,\n",
              "                                 Pipeline(steps=[(&#x27;simpleimputer&#x27;,\n",
              "                                                  SimpleImputer(fill_value=&#x27;missing&#x27;,\n",
              "                                                                strategy=&#x27;constant&#x27;)),\n",
              "                                                 (&#x27;onehotencoder&#x27;,\n",
              "                                                  OneHotEncoder(handle_unknown=&#x27;ignore&#x27;,\n",
              "                                                                sparse_output=False))]),\n",
              "                                 Index([&#x27;type&#x27;], dtype=&#x27;object&#x27;))],\n",
              "                  verbose_feature_names_out=False)</pre></div></div></div><div class=\"sk-parallel\"><div class=\"sk-parallel-item\"><div class=\"sk-item\"><div class=\"sk-label-container\"><div class=\"sk-label sk-toggleable\"><input class=\"sk-toggleable__control sk-hidden--visually\" id=\"sk-estimator-id-218\" type=\"checkbox\" ><label for=\"sk-estimator-id-218\" class=\"sk-toggleable__label sk-toggleable__label-arrow\">number</label><div class=\"sk-toggleable__content\"><pre>Index([&#x27;year&#x27;, &#x27;rating&#x27;, &#x27;num_reviews&#x27;, &#x27;body&#x27;, &#x27;acidity&#x27;], dtype=&#x27;object&#x27;)</pre></div></div></div><div class=\"sk-serial\"><div class=\"sk-item\"><div class=\"sk-serial\"><div class=\"sk-item\"><div class=\"sk-estimator sk-toggleable\"><input class=\"sk-toggleable__control sk-hidden--visually\" id=\"sk-estimator-id-219\" type=\"checkbox\" ><label for=\"sk-estimator-id-219\" class=\"sk-toggleable__label sk-toggleable__label-arrow\">SimpleImputer</label><div class=\"sk-toggleable__content\"><pre>SimpleImputer(strategy=&#x27;median&#x27;)</pre></div></div></div><div class=\"sk-item\"><div class=\"sk-estimator sk-toggleable\"><input class=\"sk-toggleable__control sk-hidden--visually\" id=\"sk-estimator-id-220\" type=\"checkbox\" ><label for=\"sk-estimator-id-220\" class=\"sk-toggleable__label sk-toggleable__label-arrow\">StandardScaler</label><div class=\"sk-toggleable__content\"><pre>StandardScaler()</pre></div></div></div></div></div></div></div></div><div class=\"sk-parallel-item\"><div class=\"sk-item\"><div class=\"sk-label-container\"><div class=\"sk-label sk-toggleable\"><input class=\"sk-toggleable__control sk-hidden--visually\" id=\"sk-estimator-id-221\" type=\"checkbox\" ><label for=\"sk-estimator-id-221\" class=\"sk-toggleable__label sk-toggleable__label-arrow\">categorical</label><div class=\"sk-toggleable__content\"><pre>Index([&#x27;type&#x27;], dtype=&#x27;object&#x27;)</pre></div></div></div><div class=\"sk-serial\"><div class=\"sk-item\"><div class=\"sk-serial\"><div class=\"sk-item\"><div class=\"sk-estimator sk-toggleable\"><input class=\"sk-toggleable__control sk-hidden--visually\" id=\"sk-estimator-id-222\" type=\"checkbox\" ><label for=\"sk-estimator-id-222\" class=\"sk-toggleable__label sk-toggleable__label-arrow\">SimpleImputer</label><div class=\"sk-toggleable__content\"><pre>SimpleImputer(fill_value=&#x27;missing&#x27;, strategy=&#x27;constant&#x27;)</pre></div></div></div><div class=\"sk-item\"><div class=\"sk-estimator sk-toggleable\"><input class=\"sk-toggleable__control sk-hidden--visually\" id=\"sk-estimator-id-223\" type=\"checkbox\" ><label for=\"sk-estimator-id-223\" class=\"sk-toggleable__label sk-toggleable__label-arrow\">OneHotEncoder</label><div class=\"sk-toggleable__content\"><pre>OneHotEncoder(handle_unknown=&#x27;ignore&#x27;, sparse_output=False)</pre></div></div></div></div></div></div></div></div></div></div><div class=\"sk-item\"><div class=\"sk-estimator sk-toggleable\"><input class=\"sk-toggleable__control sk-hidden--visually\" id=\"sk-estimator-id-224\" type=\"checkbox\" ><label for=\"sk-estimator-id-224\" class=\"sk-toggleable__label sk-toggleable__label-arrow\">LogisticRegression</label><div class=\"sk-toggleable__content\"><pre>LogisticRegression(max_iter=1000)</pre></div></div></div></div></div></div></div>"
            ]
          },
          "metadata": {},
          "execution_count": 375
        }
      ]
    },
    {
      "cell_type": "markdown",
      "source": [
        "# Default Logistical Regression Model"
      ],
      "metadata": {
        "id": "LP3Jrus5Kba8"
      }
    },
    {
      "cell_type": "code",
      "source": [
        "# Evaluate the default model\n",
        "evaluate_classification(lreg_pipe, X_train, y_train, X_test, y_test)"
      ],
      "metadata": {
        "colab": {
          "base_uri": "https://localhost:8080/",
          "height": 1000
        },
        "id": "VhWzjTouKc3f",
        "outputId": "d319e9b0-0255-407e-f527-ef834d179e84"
      },
      "execution_count": 376,
      "outputs": [
        {
          "output_type": "stream",
          "name": "stdout",
          "text": [
            "----------------------------------------------------------------------\n",
            " Classification Metrics: Training Data\n",
            "----------------------------------------------------------------------\n",
            "              precision    recall  f1-score   support\n",
            "\n",
            "           0       0.91      0.97      0.94      1181\n",
            "           1       0.82      0.62      0.71       301\n",
            "\n",
            "    accuracy                           0.90      1482\n",
            "   macro avg       0.87      0.80      0.82      1482\n",
            "weighted avg       0.89      0.90      0.89      1482\n",
            "\n"
          ]
        },
        {
          "output_type": "display_data",
          "data": {
            "text/plain": [
              "<Figure size 600x400 with 2 Axes>"
            ],
            "image/png": "[encoded data removed]"
          },
          "metadata": {}
        },
        {
          "output_type": "stream",
          "name": "stdout",
          "text": [
            "\n",
            "----------------------------------------------------------------------\n",
            " Classification Metrics: Test Data\n",
            "----------------------------------------------------------------------\n",
            "              precision    recall  f1-score   support\n",
            "\n",
            "           0       0.91      0.96      0.93       403\n",
            "           1       0.76      0.57      0.65        91\n",
            "\n",
            "    accuracy                           0.89       494\n",
            "   macro avg       0.84      0.77      0.79       494\n",
            "weighted avg       0.88      0.89      0.88       494\n",
            "\n"
          ]
        },
        {
          "output_type": "display_data",
          "data": {
            "text/plain": [
              "<Figure size 600x400 with 2 Axes>"
            ],
            "image/png": "[encoded data removed]"
          },
          "metadata": {}
        }
      ]
    },
    {
      "cell_type": "markdown",
      "source": [
        "# Test a Tuned Logistical Regression Model"
      ],
      "metadata": {
        "id": "8GKvdBPxLfYK"
      }
    },
    {
      "cell_type": "code",
      "source": [
        "# Define the param grid\n",
        "params_lr={'logisticregression__C': [0.0001, 0.001, 0.01, 0.1, 1, 10, 100, 1000],\n",
        "        'logisticregression__solver': ['liblinear'],\n",
        "        'logisticregression__penalty': ['l1', 'l2'],\n",
        "        'logisticregression__class_weight': ['balanced', None]\n",
        "        }\n",
        "\n",
        "# Create the GridSearchCV object with required args\n",
        "gs = GridSearchCV(lreg_pipe, params_lr, verbose=True, n_jobs=-1,\n",
        "                  return_train_score=True, scoring='recall_macro')\n",
        "# Fit the gridsearch and display best params\n",
        "gs.fit(X_train, y_train)\n",
        "print(f'Best Params: {gs.best_params_}')"
      ],
      "metadata": {
        "colab": {
          "base_uri": "https://localhost:8080/"
        },
        "id": "jAN9z5rELuFG",
        "outputId": "f2da1aaf-ded8-4f38-8397-7dd0f7d25ab5"
      },
      "execution_count": 378,
      "outputs": [
        {
          "output_type": "stream",
          "name": "stdout",
          "text": [
            "Fitting 5 folds for each of 32 candidates, totalling 160 fits\n",
            "Best Params: {'logisticregression__C': 0.1, 'logisticregression__class_weight': 'balanced', 'logisticregression__penalty': 'l2', 'logisticregression__solver': 'liblinear'}\n"
          ]
        }
      ]
    },
    {
      "cell_type": "code",
      "source": [
        "# Define the best version of the model\n",
        "lr_best_model = gs.best_estimator_"
      ],
      "metadata": {
        "id": "fxw18YWCMEww"
      },
      "execution_count": 379,
      "outputs": []
    },
    {
      "cell_type": "code",
      "source": [
        "# Predict and Evaluate with custom function\n",
        "evaluate_classification(lr_best_model, X_train, y_train, X_test, y_test)"
      ],
      "metadata": {
        "colab": {
          "base_uri": "https://localhost:8080/",
          "height": 1000
        },
        "id": "18LeVnQ0MGxE",
        "outputId": "9e1be166-d27c-4ecc-ccc1-6054399fdab6"
      },
      "execution_count": 380,
      "outputs": [
        {
          "output_type": "stream",
          "name": "stdout",
          "text": [
            "----------------------------------------------------------------------\n",
            " Classification Metrics: Training Data\n",
            "----------------------------------------------------------------------\n",
            "              precision    recall  f1-score   support\n",
            "\n",
            "           0       0.95      0.86      0.90      1181\n",
            "           1       0.59      0.82      0.69       301\n",
            "\n",
            "    accuracy                           0.85      1482\n",
            "   macro avg       0.77      0.84      0.79      1482\n",
            "weighted avg       0.88      0.85      0.86      1482\n",
            "\n"
          ]
        },
        {
          "output_type": "display_data",
          "data": {
            "text/plain": [
              "<Figure size 600x400 with 2 Axes>"
            ],
            "image/png": "[encoded data removed]"
          },
          "metadata": {}
        },
        {
          "output_type": "stream",
          "name": "stdout",
          "text": [
            "\n",
            "----------------------------------------------------------------------\n",
            " Classification Metrics: Test Data\n",
            "----------------------------------------------------------------------\n",
            "              precision    recall  f1-score   support\n",
            "\n",
            "           0       0.96      0.83      0.89       403\n",
            "           1       0.53      0.85      0.66        91\n",
            "\n",
            "    accuracy                           0.84       494\n",
            "   macro avg       0.75      0.84      0.77       494\n",
            "weighted avg       0.88      0.84      0.85       494\n",
            "\n"
          ]
        },
        {
          "output_type": "display_data",
          "data": {
            "text/plain": [
              "<Figure size 600x400 with 2 Axes>"
            ],
            "image/png": "[encoded data removed]"
          },
          "metadata": {}
        }
      ]
    },
    {
      "cell_type": "markdown",
      "source": [
        "# Findings:\n",
        "\n",
        "The Tuned Logistical Regression (LR) model produced the best results. For this model, it's important that we have accureate True Positive and True Negative rates. The tuned LR model produced True Positives `85%` of the time and True Negatives `83%` of the time.\n",
        "\n",
        "While the Default LR model produced more accurate True Negative preductions, its True Positive performance was significantly below the Tuned LR model's performance.\n",
        "\n",
        "As a result of these evaluations, I recommend using the Tuned LR model for production."
      ],
      "metadata": {
        "id": "vqOMD9FfMsyF"
      }
    }
  ],
  "metadata": {
    "colab": {
      "collapsed_sections": [
        "-rOTwbEHWS0t"
      ],
      "provenance": [],
      "toc_visible": true,
      "mount_file_id": "1zGEN64dLVd4QQ_nPPqlL0dV467mnUsBS",
      "authorship_tag": "ABX9TyMPhbit18fD6pBe0WiufwZ4",
      "include_colab_link": true
    },
    "kernelspec": {
      "display_name": "Python 3",
      "name": "python3"
    },
    "language_info": {
      "name": "python"
    }
  },
  "nbformat": 4,
  "nbformat_minor": 0
}